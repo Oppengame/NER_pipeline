{
 "cells": [
  {
   "cell_type": "markdown",
   "metadata": {
    "id": "RmsBCgsbcFWg"
   },
   "source": [
    "## Welcome to my NER pipeline!"
   ]
  },
  {
   "cell_type": "code",
   "execution_count": 1,
   "metadata": {
    "colab": {
     "base_uri": "https://localhost:8080/"
    },
    "id": "B1hpElsmuPDm",
    "outputId": "63d3ac6f-644c-4846-b82d-84008ef3e9c8"
   },
   "outputs": [
    {
     "output_type": "stream",
     "name": "stdout",
     "text": [
      "Collecting transformers\n",
      "  Downloading transformers-4.18.0-py3-none-any.whl (4.0 MB)\n",
      "\u001B[K     |████████████████████████████████| 4.0 MB 4.2 MB/s \n",
      "\u001B[?25hCollecting datasets\n",
      "  Downloading datasets-2.1.0-py3-none-any.whl (325 kB)\n",
      "\u001B[K     |████████████████████████████████| 325 kB 53.1 MB/s \n",
      "\u001B[?25hRequirement already satisfied: tqdm in /usr/local/lib/python3.7/dist-packages (4.64.0)\n",
      "Collecting scikit-multilearn\n",
      "  Downloading scikit_multilearn-0.2.0-py3-none-any.whl (89 kB)\n",
      "\u001B[K     |████████████████████████████████| 89 kB 7.9 MB/s \n",
      "\u001B[?25hCollecting sacremoses\n",
      "  Downloading sacremoses-0.0.49-py3-none-any.whl (895 kB)\n",
      "\u001B[K     |████████████████████████████████| 895 kB 50.9 MB/s \n",
      "\u001B[?25hCollecting tokenizers!=0.11.3,<0.13,>=0.11.1\n",
      "  Downloading tokenizers-0.12.1-cp37-cp37m-manylinux_2_12_x86_64.manylinux2010_x86_64.whl (6.6 MB)\n",
      "\u001B[K     |████████████████████████████████| 6.6 MB 37.6 MB/s \n",
      "\u001B[?25hRequirement already satisfied: filelock in /usr/local/lib/python3.7/dist-packages (from transformers) (3.6.0)\n",
      "Requirement already satisfied: importlib-metadata in /usr/local/lib/python3.7/dist-packages (from transformers) (4.11.3)\n",
      "Collecting huggingface-hub<1.0,>=0.1.0\n",
      "  Downloading huggingface_hub-0.5.1-py3-none-any.whl (77 kB)\n",
      "\u001B[K     |████████████████████████████████| 77 kB 6.3 MB/s \n",
      "\u001B[?25hRequirement already satisfied: regex!=2019.12.17 in /usr/local/lib/python3.7/dist-packages (from transformers) (2019.12.20)\n",
      "Requirement already satisfied: requests in /usr/local/lib/python3.7/dist-packages (from transformers) (2.23.0)\n",
      "Requirement already satisfied: packaging>=20.0 in /usr/local/lib/python3.7/dist-packages (from transformers) (21.3)\n",
      "Collecting pyyaml>=5.1\n",
      "  Downloading PyYAML-6.0-cp37-cp37m-manylinux_2_5_x86_64.manylinux1_x86_64.manylinux_2_12_x86_64.manylinux2010_x86_64.whl (596 kB)\n",
      "\u001B[K     |████████████████████████████████| 596 kB 47.9 MB/s \n",
      "\u001B[?25hRequirement already satisfied: numpy>=1.17 in /usr/local/lib/python3.7/dist-packages (from transformers) (1.21.6)\n",
      "Requirement already satisfied: typing-extensions>=3.7.4.3 in /usr/local/lib/python3.7/dist-packages (from huggingface-hub<1.0,>=0.1.0->transformers) (4.1.1)\n",
      "Requirement already satisfied: pyparsing!=3.0.5,>=2.0.2 in /usr/local/lib/python3.7/dist-packages (from packaging>=20.0->transformers) (3.0.8)\n",
      "Requirement already satisfied: dill in /usr/local/lib/python3.7/dist-packages (from datasets) (0.3.4)\n",
      "Collecting xxhash\n",
      "  Downloading xxhash-3.0.0-cp37-cp37m-manylinux_2_17_x86_64.manylinux2014_x86_64.whl (212 kB)\n",
      "\u001B[K     |████████████████████████████████| 212 kB 48.7 MB/s \n",
      "\u001B[?25hRequirement already satisfied: pyarrow>=5.0.0 in /usr/local/lib/python3.7/dist-packages (from datasets) (6.0.1)\n",
      "Collecting aiohttp\n",
      "  Downloading aiohttp-3.8.1-cp37-cp37m-manylinux_2_5_x86_64.manylinux1_x86_64.manylinux_2_12_x86_64.manylinux2010_x86_64.whl (1.1 MB)\n",
      "\u001B[K     |████████████████████████████████| 1.1 MB 26.7 MB/s \n",
      "\u001B[?25hCollecting responses<0.19\n",
      "  Downloading responses-0.18.0-py3-none-any.whl (38 kB)\n",
      "Collecting fsspec[http]>=2021.05.0\n",
      "  Downloading fsspec-2022.3.0-py3-none-any.whl (136 kB)\n",
      "\u001B[K     |████████████████████████████████| 136 kB 38.8 MB/s \n",
      "\u001B[?25hRequirement already satisfied: multiprocess in /usr/local/lib/python3.7/dist-packages (from datasets) (0.70.12.2)\n",
      "Requirement already satisfied: pandas in /usr/local/lib/python3.7/dist-packages (from datasets) (1.3.5)\n",
      "Requirement already satisfied: certifi>=2017.4.17 in /usr/local/lib/python3.7/dist-packages (from requests->transformers) (2021.10.8)\n",
      "Requirement already satisfied: chardet<4,>=3.0.2 in /usr/local/lib/python3.7/dist-packages (from requests->transformers) (3.0.4)\n",
      "Requirement already satisfied: urllib3!=1.25.0,!=1.25.1,<1.26,>=1.21.1 in /usr/local/lib/python3.7/dist-packages (from requests->transformers) (1.24.3)\n",
      "Requirement already satisfied: idna<3,>=2.5 in /usr/local/lib/python3.7/dist-packages (from requests->transformers) (2.10)\n",
      "Collecting urllib3!=1.25.0,!=1.25.1,<1.26,>=1.21.1\n",
      "  Downloading urllib3-1.25.11-py2.py3-none-any.whl (127 kB)\n",
      "\u001B[K     |████████████████████████████████| 127 kB 39.8 MB/s \n",
      "\u001B[?25hRequirement already satisfied: attrs>=17.3.0 in /usr/local/lib/python3.7/dist-packages (from aiohttp->datasets) (21.4.0)\n",
      "Collecting frozenlist>=1.1.1\n",
      "  Downloading frozenlist-1.3.0-cp37-cp37m-manylinux_2_5_x86_64.manylinux1_x86_64.manylinux_2_17_x86_64.manylinux2014_x86_64.whl (144 kB)\n",
      "\u001B[K     |████████████████████████████████| 144 kB 38.6 MB/s \n",
      "\u001B[?25hCollecting aiosignal>=1.1.2\n",
      "  Downloading aiosignal-1.2.0-py3-none-any.whl (8.2 kB)\n",
      "Collecting multidict<7.0,>=4.5\n",
      "  Downloading multidict-6.0.2-cp37-cp37m-manylinux_2_17_x86_64.manylinux2014_x86_64.whl (94 kB)\n",
      "\u001B[K     |████████████████████████████████| 94 kB 980 kB/s \n",
      "\u001B[?25hCollecting asynctest==0.13.0\n",
      "  Downloading asynctest-0.13.0-py3-none-any.whl (26 kB)\n",
      "Collecting yarl<2.0,>=1.0\n",
      "  Downloading yarl-1.7.2-cp37-cp37m-manylinux_2_5_x86_64.manylinux1_x86_64.manylinux_2_12_x86_64.manylinux2010_x86_64.whl (271 kB)\n",
      "\u001B[K     |████████████████████████████████| 271 kB 38.2 MB/s \n",
      "\u001B[?25hCollecting async-timeout<5.0,>=4.0.0a3\n",
      "  Downloading async_timeout-4.0.2-py3-none-any.whl (5.8 kB)\n",
      "Requirement already satisfied: charset-normalizer<3.0,>=2.0 in /usr/local/lib/python3.7/dist-packages (from aiohttp->datasets) (2.0.12)\n",
      "Requirement already satisfied: zipp>=0.5 in /usr/local/lib/python3.7/dist-packages (from importlib-metadata->transformers) (3.8.0)\n",
      "Requirement already satisfied: python-dateutil>=2.7.3 in /usr/local/lib/python3.7/dist-packages (from pandas->datasets) (2.8.2)\n",
      "Requirement already satisfied: pytz>=2017.3 in /usr/local/lib/python3.7/dist-packages (from pandas->datasets) (2022.1)\n",
      "Requirement already satisfied: six>=1.5 in /usr/local/lib/python3.7/dist-packages (from python-dateutil>=2.7.3->pandas->datasets) (1.15.0)\n",
      "Requirement already satisfied: click in /usr/local/lib/python3.7/dist-packages (from sacremoses->transformers) (7.1.2)\n",
      "Requirement already satisfied: joblib in /usr/local/lib/python3.7/dist-packages (from sacremoses->transformers) (1.1.0)\n",
      "Installing collected packages: multidict, frozenlist, yarl, urllib3, asynctest, async-timeout, aiosignal, pyyaml, fsspec, aiohttp, xxhash, tokenizers, sacremoses, responses, huggingface-hub, transformers, scikit-multilearn, datasets\n",
      "  Attempting uninstall: urllib3\n",
      "    Found existing installation: urllib3 1.24.3\n",
      "    Uninstalling urllib3-1.24.3:\n",
      "      Successfully uninstalled urllib3-1.24.3\n",
      "  Attempting uninstall: pyyaml\n",
      "    Found existing installation: PyYAML 3.13\n",
      "    Uninstalling PyYAML-3.13:\n",
      "      Successfully uninstalled PyYAML-3.13\n",
      "\u001B[31mERROR: pip's dependency resolver does not currently take into account all the packages that are installed. This behaviour is the source of the following dependency conflicts.\n",
      "datascience 0.10.6 requires folium==0.2.1, but you have folium 0.8.3 which is incompatible.\u001B[0m\n",
      "Successfully installed aiohttp-3.8.1 aiosignal-1.2.0 async-timeout-4.0.2 asynctest-0.13.0 datasets-2.1.0 frozenlist-1.3.0 fsspec-2022.3.0 huggingface-hub-0.5.1 multidict-6.0.2 pyyaml-6.0 responses-0.18.0 sacremoses-0.0.49 scikit-multilearn-0.2.0 tokenizers-0.12.1 transformers-4.18.0 urllib3-1.25.11 xxhash-3.0.0 yarl-1.7.2\n"
     ]
    }
   ],
   "source": [
    "!pip install transformers datasets tqdm scikit-multilearn"
   ]
  },
  {
   "cell_type": "code",
   "execution_count": 2,
   "metadata": {
    "colab": {
     "base_uri": "https://localhost:8080/"
    },
    "id": "pKHPv2nXjRmX",
    "outputId": "81353aa9-a636-4948-e2f9-faad69b015e6"
   },
   "outputs": [
    {
     "output_type": "stream",
     "name": "stdout",
     "text": [
      "Wed Apr 20 11:42:12 2022       \n",
      "+-----------------------------------------------------------------------------+\n",
      "| NVIDIA-SMI 460.32.03    Driver Version: 460.32.03    CUDA Version: 11.2     |\n",
      "|-------------------------------+----------------------+----------------------+\n",
      "| GPU  Name        Persistence-M| Bus-Id        Disp.A | Volatile Uncorr. ECC |\n",
      "| Fan  Temp  Perf  Pwr:Usage/Cap|         Memory-Usage | GPU-Util  Compute M. |\n",
      "|                               |                      |               MIG M. |\n",
      "|===============================+======================+======================|\n",
      "|   0  Tesla K80           Off  | 00000000:00:04.0 Off |                    0 |\n",
      "| N/A   31C    P8    28W / 149W |      0MiB / 11441MiB |      0%      Default |\n",
      "|                               |                      |                  N/A |\n",
      "+-------------------------------+----------------------+----------------------+\n",
      "                                                                               \n",
      "+-----------------------------------------------------------------------------+\n",
      "| Processes:                                                                  |\n",
      "|  GPU   GI   CI        PID   Type   Process name                  GPU Memory |\n",
      "|        ID   ID                                                   Usage      |\n",
      "|=============================================================================|\n",
      "|  No running processes found                                                 |\n",
      "+-----------------------------------------------------------------------------+\n"
     ]
    }
   ],
   "source": [
    "!nvidia-smi"
   ]
  },
  {
   "cell_type": "code",
   "execution_count": 3,
   "metadata": {
    "id": "e2fygxRJQUek",
    "outputId": "1e41030a-9cc9-4e73-dcbb-0472d0370794",
    "colab": {
     "base_uri": "https://localhost:8080/"
    }
   },
   "outputs": [
    {
     "output_type": "stream",
     "name": "stdout",
     "text": [
      "Mounted at /content/gdrive\n"
     ]
    }
   ],
   "source": [
    "## Choose whether to save on drive or locally:\n",
    "\n",
    "gdrive = True\n",
    "if gdrive:\n",
    "    from google.colab import drive\n",
    "\n",
    "    drive.mount( '/content/gdrive' )\n",
    "    save_dir = '/content/gdrive/MyDrive/NER/final'\n",
    "else:\n",
    "    save_dir = './results/final'"
   ]
  },
  {
   "cell_type": "markdown",
   "metadata": {
    "id": "46XrmdZIJxxA"
   },
   "source": [
    "Get data from .bio file: "
   ]
  },
  {
   "cell_type": "code",
   "execution_count": 4,
   "metadata": {
    "id": "ces2u91mIjqd"
   },
   "outputs": [],
   "source": [
    "def get_data(file_name):\n",
    "    text = []\n",
    "    data = []\n",
    "    sample = []\n",
    "    with open( file_name ) as b:\n",
    "        for line in b.readlines():\n",
    "            if line == '\\n':\n",
    "                sample_dict = {'text': [s[1].strip() for s in sample], 'labels': [s[0] for s in sample]}\n",
    "                labels = []\n",
    "                str_text = ''\n",
    "                st = 0\n",
    "                inside_lab = False\n",
    "                for t, l in zip( sample_dict['text'], sample_dict['labels'] ):\n",
    "                    # label ended:\n",
    "                    if l[0] != 'I' and inside_lab:\n",
    "                        inside_lab = False\n",
    "                        end = len( str_text ) - 1\n",
    "                        labels.append( [st, end, lab] )\n",
    "\n",
    "                    #label started:\n",
    "                    if l[0] == 'B':\n",
    "                        lab = l.split( '-' )[1]\n",
    "                        st = len( str_text )\n",
    "                        inside_lab = True\n",
    "\n",
    "                    str_text += t + ' '\n",
    "                    # labels.append(st,end,l)\n",
    "                if inside_lab:\n",
    "                    end = len( str_text ) - 1\n",
    "                    labels.append( [st, end, lab] )\n",
    "                data.append( {\"text\": str_text.strip(), \"labels\": labels} )\n",
    "                sample = []\n",
    "            else:\n",
    "                line = line.split( '\\t' )\n",
    "                sample.append( line )\n",
    "            # [text.append(li[2]) for li in line]\n",
    "    return data\n"
   ]
  },
  {
   "cell_type": "code",
   "execution_count": 5,
   "outputs": [
    {
     "output_type": "execute_result",
     "data": {
      "text/plain": [
       "('restauranttrain.bio', <http.client.HTTPMessage at 0x7fc13cfd68d0>)"
      ]
     },
     "metadata": {},
     "execution_count": 5
    }
   ],
   "source": [
    "import urllib.request\n",
    "\n",
    "urllib.request.urlretrieve( \"https://groups.csail.mit.edu/sls/downloads/restaurant/restauranttest.bio\",\n",
    "                            \"restauranttest.bio\" )\n",
    "urllib.request.urlretrieve( \"https://groups.csail.mit.edu/sls/downloads/restaurant/restauranttrain.bio\",\n",
    "                            \"restauranttrain.bio\" )"
   ],
   "metadata": {
    "pycharm": {
     "name": "#%%\n"
    },
    "id": "nc9uugFpxu3V",
    "outputId": "ef5920f4-6d0e-4ae1-f337-6ac90bac01db",
    "colab": {
     "base_uri": "https://localhost:8080/"
    }
   }
  },
  {
   "cell_type": "code",
   "execution_count": 6,
   "metadata": {
    "id": "lUUqIZDtJ6Ks"
   },
   "outputs": [],
   "source": [
    "data = get_data( 'restauranttrain.bio' )"
   ]
  },
  {
   "cell_type": "markdown",
   "metadata": {
    "id": "ZifO53sqaSKg"
   },
   "source": [
    "## Visualize distributions"
   ]
  },
  {
   "cell_type": "code",
   "execution_count": 7,
   "metadata": {
    "colab": {
     "base_uri": "https://localhost:8080/",
     "height": 409
    },
    "id": "J_4Sfo_TKcAF",
    "outputId": "35ec2b7f-410e-46fe-c62a-fae36731846f"
   },
   "outputs": [
    {
     "output_type": "execute_result",
     "data": {
      "text/plain": [
       "Text(0.5, 0, 'Label')"
      ]
     },
     "metadata": {},
     "execution_count": 7
    },
    {
     "output_type": "display_data",
     "data": {
      "text/plain": [
       "<Figure size 864x432 with 1 Axes>"
      ],
      "image/png": "[encoded data removed]"
     },
     "metadata": {
      "needs_background": "light"
     }
    }
   ],
   "source": [
    "import matplotlib.pyplot as plt\n",
    "import numpy as np\n",
    "\n",
    "labls = [lab[-1] for sample in data for lab in sample['labels']]\n",
    "\n",
    "fig = plt.figure( figsize=(12, 6) )\n",
    "labls, counts = np.unique( labls, return_counts=True )\n",
    "plt.bar( labls, counts, edgecolor='black' )\n",
    "\n",
    "plt.ylabel( 'Count' )\n",
    "plt.xlabel( 'Label' )"
   ]
  },
  {
   "cell_type": "code",
   "execution_count": 8,
   "metadata": {
    "colab": {
     "base_uri": "https://localhost:8080/",
     "height": 405
    },
    "id": "H84QFItwNZmd",
    "outputId": "864d5620-0edb-4e6e-d077-a5ee59def4b6"
   },
   "outputs": [
    {
     "output_type": "execute_result",
     "data": {
      "text/plain": [
       "Text(0, 0.5, 'Count')"
      ]
     },
     "metadata": {},
     "execution_count": 8
    },
    {
     "output_type": "display_data",
     "data": {
      "text/plain": [
       "<Figure size 864x432 with 1 Axes>"
      ],
      "image/png": "[encoded data removed]"
     },
     "metadata": {
      "needs_background": "light"
     }
    }
   ],
   "source": [
    "lengths = [len( sample['text'] ) for sample in data]\n",
    "\n",
    "fig = plt.figure( figsize=(12, 6) )\n",
    "plt.hist( lengths, edgecolor='black', bins=30 )\n",
    "plt.xlabel( 'Length of text' )\n",
    "plt.ylabel( 'Count' )"
   ]
  },
  {
   "cell_type": "code",
   "execution_count": 9,
   "metadata": {
    "colab": {
     "base_uri": "https://localhost:8080/",
     "height": 296
    },
    "id": "9wBrrFcOPuxD",
    "outputId": "5f90486d-69e6-49ce-dffb-2ba28355eff2"
   },
   "outputs": [
    {
     "output_type": "execute_result",
     "data": {
      "text/plain": [
       "Text(0, 0.5, 'Count')"
      ]
     },
     "metadata": {},
     "execution_count": 9
    },
    {
     "output_type": "display_data",
     "data": {
      "text/plain": [
       "<Figure size 432x288 with 1 Axes>"
      ],
      "image/png": "[encoded data removed]"
     },
     "metadata": {
      "needs_background": "light"
     }
    }
   ],
   "source": [
    "lab_c = [len( sample['labels'] ) for sample in data]\n",
    "plt.hist( lab_c, edgecolor='black' )\n",
    "plt.xlabel( 'Label count' )\n",
    "plt.ylabel( 'Count' )"
   ]
  },
  {
   "cell_type": "code",
   "execution_count": 10,
   "metadata": {
    "colab": {
     "base_uri": "https://localhost:8080/",
     "height": 296
    },
    "id": "Lpfrjzt5Rm_g",
    "outputId": "ba6d2ad0-08e7-4308-b668-c923b86e0c81"
   },
   "outputs": [
    {
     "output_type": "execute_result",
     "data": {
      "text/plain": [
       "Text(0, 0.5, 'Label count')"
      ]
     },
     "metadata": {},
     "execution_count": 10
    },
    {
     "output_type": "display_data",
     "data": {
      "text/plain": [
       "<Figure size 432x288 with 1 Axes>"
      ],
      "image/png": "[encoded data removed]"
     },
     "metadata": {
      "needs_background": "light"
     }
    }
   ],
   "source": [
    "plt.scatter( lengths, lab_c )\n",
    "plt.xlabel( 'Sample length' )\n",
    "plt.ylabel( 'Label count' )"
   ]
  },
  {
   "cell_type": "code",
   "execution_count": 11,
   "metadata": {
    "id": "3p1Q2_m2Qpbe",
    "outputId": "6268ac11-29b1-4b4d-8b8f-d8b3f08fd7a3",
    "colab": {
     "base_uri": "https://localhost:8080/"
    }
   },
   "outputs": [
    {
     "output_type": "execute_result",
     "data": {
      "text/plain": [
       "[{'labels': [[14, 19, 'Cuisine'],\n",
       "   [23, 33, 'Cuisine'],\n",
       "   [46, 57, 'Location'],\n",
       "   [73, 77, 'Dish'],\n",
       "   [82, 98, 'Dish'],\n",
       "   [110, 122, 'Dish']],\n",
       "  'text': 'are there any vegan or vegetarian restaurants around here that cook with fake and substitute meats other than boca burgers'},\n",
       " {'labels': [[33, 39, 'Location'],\n",
       "   [48, 54, 'Amenity'],\n",
       "   [67, 78, 'Amenity'],\n",
       "   [105, 109, 'Rating'],\n",
       "   [110, 120, 'Cuisine'],\n",
       "   [140, 151, 'Cuisine']],\n",
       "  'text': 'i am trying to find a restaurant nearby that is casual and you can sit outside to eat somewhere that has good appetizers and food that is a light lunch'},\n",
       " {'labels': [[9, 30, 'Dish'],\n",
       "   [35, 48, 'Dish'],\n",
       "   [59, 66, 'Amenity'],\n",
       "   [71, 90, 'Price'],\n",
       "   [100, 104, 'Amenity'],\n",
       "   [108, 118, 'Amenity']],\n",
       "  'text': 'i want a large pepperoni pizza and buffalo wings that will deliver for under for 5 or less and will take my debit card'},\n",
       " {'labels': [[11, 16, 'Cuisine'],\n",
       "   [33, 42, 'Amenity'],\n",
       "   [43, 60, 'Dish'],\n",
       "   [70, 82, 'Rating'],\n",
       "   [87, 100, 'Dish'],\n",
       "   [105, 115, 'Dish']],\n",
       "  'text': 'is there a cajun restaurant with drivethru frozen margaritas that has high ratings for fried pickles and gator tail'},\n",
       " {'labels': [[0, 5, 'Location'],\n",
       "   [19, 33, 'Price'],\n",
       "   [38, 47, 'Hours'],\n",
       "   [55, 62, 'Cuisine'],\n",
       "   [63, 73, 'Restaurant_Name'],\n",
       "   [74, 89, 'Location'],\n",
       "   [94, 108, 'Location']],\n",
       "  'text': 'place an order for three burritos and two tacos at the mexican restaurant closest to home and set directions to the mexican restaurant'},\n",
       " {'labels': [[11, 25, 'Amenity'],\n",
       "   [35, 38, 'Cuisine'],\n",
       "   [41, 55, 'Cuisine'],\n",
       "   [75, 83, 'Location'],\n",
       "   [89, 96, 'Location'],\n",
       "   [101, 115, 'Rating']],\n",
       "  'text': 'we want to watch football while we eat a mexican dinner is there somewhere close by that carries the football games'},\n",
       " {'labels': [[22, 27, 'Price'],\n",
       "   [28, 32, 'Cuisine'],\n",
       "   [38, 42, 'Rating'],\n",
       "   [43, 48, 'Hours'],\n",
       "   [57, 66, 'Amenity'],\n",
       "   [67, 74, 'Hours'],\n",
       "   [75, 80, 'Restaurant_Name'],\n",
       "   [97, 110, 'Hours']],\n",
       "  'text': 'yes we need to find a cheap deli with good hours for our childrens lunches dinos is open all day 5 days a week score'}]"
      ]
     },
     "metadata": {},
     "execution_count": 11
    }
   ],
   "source": [
    "many_labs = [sample for sample in data if len( sample['labels'] ) > 5]\n",
    "many_labs"
   ]
  },
  {
   "cell_type": "code",
   "execution_count": 12,
   "metadata": {
    "id": "C_lul36wR7Nl",
    "outputId": "1a81ce08-b719-4ea0-d28d-b8fecd1d564a",
    "colab": {
     "base_uri": "https://localhost:8080/"
    }
   },
   "outputs": [
    {
     "output_type": "execute_result",
     "data": {
      "text/plain": [
       "[{'labels': [], 'text': '34'},\n",
       " {'labels': [], 'text': 'are the proportions big or small'},\n",
       " {'labels': [],\n",
       "  'text': 'are there any specialties being offered at any nearby restaurants'},\n",
       " {'labels': [], 'text': 'can i make online reservations'},\n",
       " {'labels': [], 'text': 'can i paid with a credit card here'},\n",
       " {'labels': [], 'text': 'can you find me a place to eat'},\n",
       " {'labels': [], 'text': 'can you find me a restaurant'},\n",
       " {'labels': [], 'text': 'can you help me find a place to eat'},\n",
       " {'labels': [], 'text': 'can you help me find food'},\n",
       " {'labels': [], 'text': 'can you make new recipes'},\n",
       " {'labels': [], 'text': 'can you take me to a good restaurant'},\n",
       " {'labels': [], 'text': 'car find a restaurant for me'},\n",
       " {'labels': [], 'text': 'car find places to eat'},\n",
       " {'labels': [], 'text': 'do you need a reservation'},\n",
       " {'labels': [], 'text': 'feed me'},\n",
       " {'labels': [], 'text': 'find a place for my food'},\n",
       " {'labels': [], 'text': 'find a restaurant'},\n",
       " {'labels': [], 'text': 'find food'},\n",
       " {'labels': [], 'text': 'find me a phone number for this restaurant'},\n",
       " {'labels': [], 'text': 'find me a place to eat'},\n",
       " {'labels': [], 'text': 'find me a restaurant'},\n",
       " {'labels': [], 'text': 'find me the address of the restaurant were going to'},\n",
       " {'labels': [], 'text': 'find something to eat'},\n",
       " {'labels': [], 'text': 'get me some food'},\n",
       " {'labels': [], 'text': 'get me to some grub'},\n",
       " {'labels': [], 'text': 'give me some food'},\n",
       " {'labels': [], 'text': 'give me some food suggestions'},\n",
       " {'labels': [], 'text': 'good yes'},\n",
       " {'labels': [], 'text': 'good yesgood yes'},\n",
       " {'labels': [], 'text': 'help me find a place to eat'},\n",
       " {'labels': [], 'text': 'hi i dont want to eat today'},\n",
       " {'labels': [], 'text': 'how is the pricing'},\n",
       " {'labels': [], 'text': 'i am a bad mood'},\n",
       " {'labels': [], 'text': 'i am hunagry where is food being served'},\n",
       " {'labels': [], 'text': 'i am starving'},\n",
       " {'labels': [],\n",
       "  'text': 'i cant decide between two places can you pull up the menus for both of the restaurants'},\n",
       " {'labels': [], 'text': 'i need a place to eat'},\n",
       " {'labels': [], 'text': 'i need a restaurant'},\n",
       " {'labels': [], 'text': 'i need food'},\n",
       " {'labels': [], 'text': 'i need help about he parking at this restaurant'},\n",
       " {'labels': [], 'text': 'i need something to eat'},\n",
       " {'labels': [], 'text': 'i need the phone number for restaurant name'},\n",
       " {'labels': [],\n",
       "  'text': 'i need to use phone can you show me the phone numbers'},\n",
       " {'labels': [],\n",
       "  'text': 'i wanna try something new this time can you find me some restaurant i havent been to before'},\n",
       " {'labels': [],\n",
       "  'text': 'i want a reservation for two at the fanciest restaurant around'},\n",
       " {'labels': [], 'text': 'i want to eat'},\n",
       " {'labels': [],\n",
       "  'text': 'i want you to make a reservation for two at that restaurant ive been going to all week'},\n",
       " {'labels': [], 'text': 'i would like something to eat'},\n",
       " {'labels': [], 'text': 'i would like to eat at a restaurant'},\n",
       " {'labels': [], 'text': 'i would like to find a restaurant'},\n",
       " {'labels': [], 'text': 'i would like to get something to eat'},\n",
       " {'labels': [], 'text': 'i would like to place a restaurant order number'},\n",
       " {'labels': [],\n",
       "  'text': 'im feeling rather hungry do you have any recommendations for a place to eat'},\n",
       " {'labels': [], 'text': 'im hungry'},\n",
       " {'labels': [], 'text': 'im hungry where can i eat'},\n",
       " {'labels': [], 'text': 'im in need of a meal'},\n",
       " {'labels': [], 'text': 'im looking for a place to eat'},\n",
       " {'labels': [], 'text': 'im looking for a restaurant'},\n",
       " {'labels': [], 'text': 'im starving'},\n",
       " {'labels': [], 'text': 'im starving give me directions to a restaurant'},\n",
       " {'labels': [], 'text': 'is the cheddar and broccoli soup any good'},\n",
       " {'labels': [], 'text': 'let me eat where you feel better'},\n",
       " {'labels': [], 'text': 'locate restaurant'},\n",
       " {'labels': [],\n",
       "  'text': 'make a reservation for a party of number of people in party at restaurant'},\n",
       " {'labels': [],\n",
       "  'text': 'please get me the phone number to a dry cleaner nearby'},\n",
       " {'labels': [], 'text': 'take me to a restaurant'},\n",
       " {'labels': [], 'text': 'take me to a restraunt pleas'},\n",
       " {'labels': [], 'text': 'tell me a place to eat'},\n",
       " {'labels': [], 'text': 'today i dont want to eat'},\n",
       " {'labels': [], 'text': 'what is the price range'},\n",
       " {'labels': [], 'text': 'what is the price range of the steak house'},\n",
       " {'labels': [], 'text': 'what kind of food does that restaurant serve'},\n",
       " {'labels': [], 'text': 'what options are available for food'},\n",
       " {'labels': [], 'text': 'what should i eat today i am hungry'},\n",
       " {'labels': [], 'text': 'whats for dinner'},\n",
       " {'labels': [], 'text': 'whats their phone number'},\n",
       " {'labels': [], 'text': 'where can i eat'},\n",
       " {'labels': [], 'text': 'where can i find a place to eat'},\n",
       " {'labels': [], 'text': 'where can i find food'},\n",
       " {'labels': [], 'text': 'where can i find some food'},\n",
       " {'labels': [], 'text': 'where can i get a good taco'},\n",
       " {'labels': [], 'text': 'where can i get food'},\n",
       " {'labels': [], 'text': 'where can i get some food'},\n",
       " {'labels': [], 'text': 'where can i get something to eat'},\n",
       " {'labels': [], 'text': 'where can i go to eat to impress on a first date'},\n",
       " {'labels': [], 'text': 'yes'},\n",
       " {'labels': [], 'text': 'yes you can you look for a restaurant'}]"
      ]
     },
     "metadata": {},
     "execution_count": 12
    }
   ],
   "source": [
    "zero_labs = [sample for sample in data if len( sample['labels'] ) == 0]\n",
    "zero_labs"
   ]
  },
  {
   "cell_type": "code",
   "execution_count": 13,
   "metadata": {
    "id": "jE-ymJRVOGlt",
    "outputId": "717983f2-76ca-4004-ece9-56e2cedcb067",
    "colab": {
     "base_uri": "https://localhost:8080/"
    }
   },
   "outputs": [
    {
     "output_type": "execute_result",
     "data": {
      "text/plain": [
       "['are than any sushi restaurants on the north side of town and i need to know their phone number and directions',\n",
       " 'are there any chinese restaurants on east 86th street in manhattan where i can get takeout lunch specials',\n",
       " 'are there any fine dining restaurants that allow me to eat my elegant meal in my car within 10 miles of here',\n",
       " 'are there any good places to drink nearby i need a bar thats still open at this hour if you dont know the hours of operation give me a phone number so i can check',\n",
       " 'are there any pizza places on the way home im looking for big portions so i can bring some home to the family',\n",
       " 'are there any places on this side of town that serve mussels at a wonderful price and allow you to bring your own beverages',\n",
       " 'are there any restaurants in this city with a dining room that have a great view of the night skyline',\n",
       " 'are there any restuarants within 10 miles that are open until 2am that have a full service menu and serve alcohol',\n",
       " 'are there any vegan or vegetarian restaurants around here that cook with fake and substitute meats other than boca burgers',\n",
       " 'based on local or community reviews what is the highest rated restaurant within 15 miles that serves home cooked style meals',\n",
       " 'can you find a kid friendly restaurant with prices no more than 15 00 per entree that is rated four stars',\n",
       " 'can you help me find a fast food restaurant with reasonable prices and that is open until at least 11 pm',\n",
       " 'can you help me find a fine dining establishment that is reasonably priced and is within 2 miles of here',\n",
       " 'can you help me find a restaurant that is open evenings has great service and is withing 3 miles of here',\n",
       " 'can you help me pick the italian restaurant with the best reviews in a 5 mile radius from my job that serves lunch',\n",
       " 'could you get me the phone number for a wonderful pizza place in the area that has thin and thick crusts',\n",
       " 'do you know if any restaruant have a rewards card that will give free food after a required amount of visits',\n",
       " 'find a 5 star restaurtant that specializes in seafood make us the first reservation they have open after 6pm for 2 people',\n",
       " 'find me a place that i can get a booth instead of a regular table to go to a nice french dinner tonight',\n",
       " 'find me a restaurant medium priced serves steak is family friendly and accepts visa within ten miles of my current location',\n",
       " 'find me a restaurant on the way to lake tahoe that serves drive thru food that is fast cheap and got great reviews',\n",
       " 'going out on a date tonight im looking to impress her what are some fancy high rated italian restaurants in the area',\n",
       " 'hello car i will be going out to eat with the family so i will be needing to know of a good kid friendly place to eat today',\n",
       " 'hello could you please tell me the phone number to javiars cuisine so that i can make a reservation thank you',\n",
       " 'hello i recently seen good reviews of a chinese resturant but i do not remember the name could you please tell me all the chinese resturants in the foxford area thank you',\n",
       " 'hey do you possibly know a great resturant for a date a place that is romantic and also has different types of food',\n",
       " 'hi back atcha were thinking chinese for tonight but not a takeout place how far is the closest real chinese restaurant',\n",
       " 'hi how are you feeling ok trick question your a computer huhuhu ahhh yeah i want to find a burger joint cheeseburgers',\n",
       " 'hi im in the mood for fresh borscht today find me a restaurant that serves borscht while i am driving',\n",
       " 'how far is the nearest mexican restaurant open with entress 10 15 id like outdoor seating and need high chair',\n",
       " 'i am hungry for italian food what is the closest italian restaurant to where we are now that has good chicken',\n",
       " 'i am looking for a restaurant that serves foreign cuisine such as indian and have outdoor dining are there any within 15 miles',\n",
       " 'i am looking for a steakhouse that has received the highest ratings by both critics and former diners',\n",
       " 'i am trying to find a restaurant nearby that is casual and you can sit outside to eat somewhere that has good appetizers and food that is a light lunch',\n",
       " 'i dont like to breathe in other peoples cigarette smoke what restaurants are good at enforcing the no smoking policy in outdoor seating',\n",
       " 'i have a craving for bonne chance its a cafe and bakery what locations do they have that are 10 miles away or less',\n",
       " 'i have fifty dollars to feed five people is there a cheap eatery with half way decent food located in this city',\n",
       " 'i have real bad asthma and smoke triggers it so is there any restaurant that has no smoking zone in it',\n",
       " 'i need a mexican restaurant on the west side of town and a list of their specialties how would i get there',\n",
       " 'i need a restaurant where i can take my kids and takes reservations it would be great if they had shaded outdoor seating',\n",
       " 'i need a romantic setting at the crackers lounge and check the rating for their menu to make sure it is eclectic',\n",
       " 'i need the name address and telephone number of a greek restaurant in astoria with an early bird menu',\n",
       " 'i need the name and address of a german restaurant that serves sunday brunch on the lower east side in new york',\n",
       " 'i need to find something that is generally healthy but quick and close by i have very little time to eat',\n",
       " 'i need to find somewhere to eat something close by im really hungry can you see if theres any buffet style restaurants within five miles of my location',\n",
       " 'i really need to file a complaint about the service i received last night at finnegans can you find me their phone number',\n",
       " 'i saw a place advertised on television where a diner can make their own pizza do you know the name of it',\n",
       " 'i want a large pepperoni pizza and buffalo wings that will deliver for under for 5 or less and will take my debit card',\n",
       " 'i want my husbands birthday to be really special this year do you know of a place where they can serenade him with a song',\n",
       " 'i want some italian food delivered to my hotel do you know what restaurant close by that will do that',\n",
       " 'i want to find a restaurant that offers a variety of wing flavors but also has specialty burgers onion rings are a must',\n",
       " 'i want to go to an indian restaurant that has carry out smoking areas is open until 10pm or later and has more than one 5 star review',\n",
       " 'i will be short on time tomorrow before i catch the train do you know if there are any eateries at the train station',\n",
       " 'i would like to dine at a restaurant rated four starts or higher are there any within 15 miles and what is the dress code',\n",
       " 'i would like to eat at a restaurant with thai food that is kid friendly great reviews and outdoor dining',\n",
       " 'i would like to go to a sushi restaurant with an affordable price formal setting accepts credit cards and has a smoking area',\n",
       " 'i would like to know which highly rated chinese restaurants serving cantonese cuisine are in this neighborhood',\n",
       " 'i would like to make a reservation at an italian restaurant whose specialties include eggplant parmesan',\n",
       " 'id like to find an upscale restaurant with private room or section available for a business dinner for 12 people',\n",
       " 'id like you to make me a reservation for two at an upscale restaurent entrees 40 60 booth not a table with privacy dim lighting soft music and dance floor',\n",
       " 'im in the mood for a three star or four star restaurant so what cuisine choices do i have and where are they',\n",
       " 'im looking for a hearty meal in a casual atmosphere preferably with a lunch or dinner buffet available',\n",
       " 'im looking for a place thats not fine dining something open every day of the week think i heard something about goodtimes the candy cafe',\n",
       " 'im wondering if reposteria miguelina has a notable beer list and whether i can drive there in under 5 min',\n",
       " 'is there a cajun restaurant with drivethru frozen margaritas that has high ratings for fried pickles and gator tail',\n",
       " 'ive been working all night and am starving is there anything available that isnt too causal but isnt too formal either',\n",
       " 'list any restaurants that have a broad menu with many different styles of food that would be good for a large group with diverse tastes',\n",
       " 'location of the nearest chinese restaurant that serves chicken fresh mushroom coconut shrimp and stuffed mushrooms that is five minutes away from my location',\n",
       " 'look for a chinese take out within 5 miles of home large order for about 12 people must be hot when i get it home',\n",
       " 'looking for a special occasion restaurant with an extensive wine list that has a four star or more rating within 50 miles',\n",
       " 'may i have the phone number and address for any sonic drive thru restaurants within a 10 minute drive',\n",
       " 'maybe i need something for my children and wife that is open right after school what do we have here claras diner perfect',\n",
       " 'maybe i need something for my friends tonight they like mexican cuisine so we should aim for that maybe something like perdros bar and grill',\n",
       " 'my kids have been bugging me to find a theme restaurant for them do you know if there is any in the area',\n",
       " 'our parents are driving us crazy they want an old fashioned diner with respectable decor can you find us a place',\n",
       " 'out of the all of the restaurants that serve chicken wings during football games who has the best prices',\n",
       " 'place an order for three burritos and two tacos at the mexican restaurant closest to home and set directions to the mexican restaurant',\n",
       " 'please find me the nearest german restaurant that serves cold red cabbage german potato salad and german chocolate cake that is open until midnight',\n",
       " 'please find us a well reviewed indian restaurant near work and make a reservation for 6 00 pm for a party of 4',\n",
       " 'please get the phone number for the closest ice cream store their address and if they have outdoor seating',\n",
       " 'please list the names of any chinese restaurant within 5 miles of my current location that are currently open',\n",
       " 'please make a reservation for soonest available table for the sushi restaurant on main street for 4 adults and 2 children',\n",
       " 'please make me a reservation for daniel tammet at the olive garden on broadway ave for 8 pm this evening',\n",
       " 'search for a 5 star rated chinese restaurant with formal dining and no buffet please make a reservation for 2 adults',\n",
       " 'show me a list of any restaurant that is considered kid friendly but still serves good food that we will like',\n",
       " 'show me all four star steak houses of medium range in price located within the city limits of detroit',\n",
       " 'take me to an authentic italian restaurant that has parking for the disabled and the food portions are large',\n",
       " 'the last place i went had no available outside parking could you direct me to the same place but with a bigger parking lot',\n",
       " 'the yummy pad thai restaurant review is out in the chronicle today can i hear that review also what is the quickest way to get there',\n",
       " 'they had a show on about the largest seafood plate around i think its called mulberry or murberry can you give me the right name',\n",
       " 'we have a group of ten is there somewhere we can eat seafood with our large group and without a long waiting line',\n",
       " 'we want a really nice restaurant that has fine dining and has a quiet environment is there somewhere close and can i make reservations there',\n",
       " 'we want to watch football while we eat a mexican dinner is there somewhere close by that carries the football games',\n",
       " 'what can you tell me about the restaurants in this area are there any michelin star restaurants around here',\n",
       " 'whats the number for the nearest sandwich place thats making to go orders this time of day but isnt fast food',\n",
       " 'where can i find a chinese restaurant in kendall square that has dim sum on their menu and offers private dining rooms for their guests',\n",
       " 'where can i find a great californian cuisine restaurant that serves decent portions and that is open before noon',\n",
       " 'will you find me a restaurant that has a parking deck that is not even remotely close but serves the best chicken wings in town',\n",
       " 'would you mind finding me a restaurant that has a kid friendly atmosphere with possible tourist opportunities',\n",
       " 'yes if you could please find me a 4 star italian restaurant that is smoke free and has outdoor seating thank you',\n",
       " 'yes we are looking for a formal restaurant today since it is my wife and my anniversary can you help us',\n",
       " 'yes we need to find a cheap deli with good hours for our childrens lunches dinos is open all day 5 days a week score']"
      ]
     },
     "metadata": {},
     "execution_count": 13
    }
   ],
   "source": [
    "long_text = [sample['text'] for sample in data if len( sample['text'] ) > 100]\n",
    "long_text"
   ]
  },
  {
   "cell_type": "code",
   "execution_count": 14,
   "metadata": {
    "id": "Lp7w4jV8OmCe",
    "outputId": "b9502d1a-d2a8-4827-92dd-df346c2737b3",
    "colab": {
     "base_uri": "https://localhost:8080/"
    }
   },
   "outputs": [
    {
     "output_type": "execute_result",
     "data": {
      "text/plain": [
       "['34',\n",
       " 'after hour dining',\n",
       " 'anniversary dinner',\n",
       " 'any fastfood nearby',\n",
       " 'any ihops around',\n",
       " 'area restaurants',\n",
       " 'asian',\n",
       " 'asian by the river',\n",
       " 'ballpark dining',\n",
       " 'bbq joint in town',\n",
       " 'beer and pub grub',\n",
       " 'breakfast spot',\n",
       " 'brunch',\n",
       " 'buffet',\n",
       " 'buffets nearest',\n",
       " 'burger joint',\n",
       " 'call applebees',\n",
       " 'call mcdonalds',\n",
       " 'call roys in oahu',\n",
       " 'call sonic burger',\n",
       " 'candy store',\n",
       " 'cheap places to eat',\n",
       " 'cheap restraunt',\n",
       " 'chilis',\n",
       " 'chinese',\n",
       " 'chinese food joint',\n",
       " 'chinese foooooood',\n",
       " 'closest arbys',\n",
       " 'closest bar in town',\n",
       " 'closest indian food',\n",
       " 'closest mcdonalds',\n",
       " 'cookies',\n",
       " 'cozy spot',\n",
       " 'craving for steak',\n",
       " 'craving for tacos',\n",
       " 'donuts',\n",
       " 'eateries',\n",
       " 'expensive restraunt',\n",
       " 'fast food',\n",
       " 'fast food locations',\n",
       " 'fastfood',\n",
       " 'feed me',\n",
       " 'find a cafe nearby',\n",
       " 'find a fast food',\n",
       " 'find a mcdonalds',\n",
       " 'find a pizza parlor',\n",
       " 'find a restaurant',\n",
       " 'find dining',\n",
       " 'find food',\n",
       " 'find good food',\n",
       " 'find me a cheap pub',\n",
       " 'find me a del taco',\n",
       " 'find me a dennys',\n",
       " 'find me a mcdonalds',\n",
       " 'find me a pet store',\n",
       " 'find me a sandwich',\n",
       " 'find me a sushi bar',\n",
       " 'find me an arbys',\n",
       " 'find me dinner',\n",
       " 'find me korean food',\n",
       " 'find me pizza',\n",
       " 'find me vietnamese',\n",
       " 'find sonic',\n",
       " 'find us a pizza hut',\n",
       " 'fine dinning please',\n",
       " 'french fries',\n",
       " 'french fries now',\n",
       " 'fridays',\n",
       " 'get me some food',\n",
       " 'get me to a buffet',\n",
       " 'get me to some grub',\n",
       " 'give me some food',\n",
       " 'good yes',\n",
       " 'good yesgood yes',\n",
       " 'greek food',\n",
       " 'greek restaurant',\n",
       " 'hip spot',\n",
       " 'hoagies',\n",
       " 'hot dog place',\n",
       " 'hot food items',\n",
       " 'hotdogs',\n",
       " 'how about lunch',\n",
       " 'how far is dominos',\n",
       " 'how far is wendys',\n",
       " 'how is the pricing',\n",
       " 'how is the service',\n",
       " 'i am a bad mood',\n",
       " 'i am starving',\n",
       " 'i feel like italian',\n",
       " 'i feel like pasta',\n",
       " 'i need a good taco',\n",
       " 'i need a restaurant',\n",
       " 'i need a whopper',\n",
       " 'i need food',\n",
       " 'i need pizza',\n",
       " 'i need some burgers',\n",
       " 'i want a burger',\n",
       " 'i want a good pizza',\n",
       " 'i want a hamburger',\n",
       " 'i want a salad',\n",
       " 'i want catfish',\n",
       " 'i want cheap tacos',\n",
       " 'i want crab cakes',\n",
       " 'i want dominos',\n",
       " 'i want fast food',\n",
       " 'i want mexican food',\n",
       " 'i want pancakes',\n",
       " 'i want peroggis',\n",
       " 'i want pub grub',\n",
       " 'i want to eat',\n",
       " 'i want to eat pho',\n",
       " 'i want to eat pizza',\n",
       " 'i want to eat sushi',\n",
       " 'i want wendys',\n",
       " 'id like a pizza',\n",
       " 'im craving chipotle',\n",
       " 'im hungry',\n",
       " 'im starving',\n",
       " 'indian food in area',\n",
       " 'iranian cuisine',\n",
       " 'is taco bell open',\n",
       " 'is zabaglione close',\n",
       " 'italian food',\n",
       " 'italian food nearby',\n",
       " 'italian food places',\n",
       " 'italian restaurants',\n",
       " 'japanese',\n",
       " 'japanese delis',\n",
       " 'jerk chicken',\n",
       " 'joe mills burgers',\n",
       " 'kfc',\n",
       " 'korean restaurants',\n",
       " 'late lunch',\n",
       " 'late night dining',\n",
       " 'late night spot',\n",
       " 'list local dinners',\n",
       " 'local bbq',\n",
       " 'local joes kitchen',\n",
       " 'locate a chow place',\n",
       " 'locate a quiznos',\n",
       " 'locate a restaurant',\n",
       " 'locate restaurant',\n",
       " 'logans menu please',\n",
       " 'looking for bar',\n",
       " 'looking for takaras',\n",
       " 'mashed potatoes',\n",
       " 'matzo ball soup',\n",
       " 'mcdonalds',\n",
       " 'mcdonalds please',\n",
       " 'micky dees please',\n",
       " 'nearby tacos',\n",
       " 'nearest barbeque',\n",
       " 'nearest dinners',\n",
       " 'nearest gyro shop',\n",
       " 'need cheesecake now',\n",
       " 'no dress code',\n",
       " 'no more fast food',\n",
       " 'no pizza for lunch',\n",
       " 'no smoke restaurant',\n",
       " 'olive garden',\n",
       " 'pancakes',\n",
       " 'piano bar steaks',\n",
       " 'pizza',\n",
       " 'pizza bagels where',\n",
       " 'portuguese food',\n",
       " 'pre theater drinks',\n",
       " 'pub grub',\n",
       " 'quick food',\n",
       " 'radius of bagels',\n",
       " 'restaurant near by',\n",
       " 'romantic restaurant',\n",
       " 'sandwich',\n",
       " 'sea food restaurant',\n",
       " 'seafood',\n",
       " 'seafood places only',\n",
       " 'seven eleven',\n",
       " 'show me mcdonalds',\n",
       " 'spanish',\n",
       " 'special dinner',\n",
       " 'starbucks',\n",
       " 'steak house',\n",
       " 'steak house please',\n",
       " 'subway nearest',\n",
       " 'sushi',\n",
       " 'sushi bar locations',\n",
       " 'sushi bar near town',\n",
       " 'take me to a buffet',\n",
       " 'take me to a dining',\n",
       " 'take me to sushi',\n",
       " 'takeout soup place',\n",
       " 'tex mex',\n",
       " 'upscale',\n",
       " 'waffles',\n",
       " 'want greek food',\n",
       " 'what are the hours',\n",
       " 'what food is nearby',\n",
       " 'whats for dinner',\n",
       " 'whats for lunch',\n",
       " 'when does kfc open',\n",
       " 'where are hot dogs',\n",
       " 'where can i eat',\n",
       " 'where is a big boy',\n",
       " 'where is a diner',\n",
       " 'where is a subway',\n",
       " 'where is applebees',\n",
       " 'where is arbys',\n",
       " 'where is buger king',\n",
       " 'where is burgerking',\n",
       " 'where is cafe rio',\n",
       " 'where is carls jr',\n",
       " 'where is chilis',\n",
       " 'where is churchs',\n",
       " 'where is evs usa',\n",
       " 'where is five guys',\n",
       " 'where is griffs',\n",
       " 'where is kfc',\n",
       " 'where is mcdonalds',\n",
       " 'where is papa johns',\n",
       " 'where is pizza hut',\n",
       " 'where is sonic',\n",
       " 'where is taco bell',\n",
       " 'where is taco bueno',\n",
       " 'where is the mall',\n",
       " 'where is the pub',\n",
       " 'where is wendys',\n",
       " 'wheres apollo pizza',\n",
       " 'wheres pizza',\n",
       " 'wheres tonys place',\n",
       " 'who has skordalia',\n",
       " 'who makes baklava',\n",
       " 'who serves crepes',\n",
       " 'yes']"
      ]
     },
     "metadata": {},
     "execution_count": 14
    }
   ],
   "source": [
    "short_text = [sample['text'] for sample in data if len( sample['text'] ) < 20]\n",
    "short_text"
   ]
  },
  {
   "cell_type": "markdown",
   "metadata": {
    "id": "CBtIbMxOVVgW"
   },
   "source": [
    "## Train NER"
   ]
  },
  {
   "cell_type": "code",
   "execution_count": 15,
   "metadata": {
    "id": "WUmTovd_naHG"
   },
   "outputs": [],
   "source": [
    "labels = list( set( [l[-1] for sample in data for l in sample['labels']] ) )"
   ]
  },
  {
   "cell_type": "code",
   "execution_count": 16,
   "metadata": {
    "id": "_GMX1Ej1VYbA"
   },
   "outputs": [],
   "source": [
    "## Add category indices for labels:\n",
    "\n",
    "tag2id = {tag: id for id, tag in enumerate( labels )}\n",
    "id2tag = {id: tag for tag, id in tag2id.items()}\n",
    "\n",
    "tag2id['none'] = len( tag2id )\n",
    "id2tag[tag2id['none']] = 'none'\n",
    "num_lables = len( tag2id )"
   ]
  },
  {
   "cell_type": "code",
   "execution_count": 17,
   "metadata": {
    "colab": {
     "base_uri": "https://localhost:8080/"
    },
    "id": "Xn8qEpH6u_bH",
    "outputId": "971c1ef2-37a3-4327-998d-43da04c2b1b1"
   },
   "outputs": [
    {
     "output_type": "stream",
     "name": "stdout",
     "text": [
      "Rating 1054\n",
      "Dish 1401\n",
      "Cuisine 2781\n",
      "Amenity 2316\n",
      "Hours 940\n",
      "Restaurant_Name 1887\n",
      "Location 3692\n",
      "Price 727\n",
      "none 0\n"
     ]
    }
   ],
   "source": [
    "## Label occurence for stratifier:\n",
    "\n",
    "y = np.zeros( (len( data ), num_lables) )\n",
    "\n",
    "for i, d in enumerate( data ):\n",
    "    lbls = []\n",
    "    for l in d['labels']:\n",
    "        lbls.append( tag2id[l[-1]] )\n",
    "\n",
    "    lbls = set( lbls )\n",
    "    for lab in lbls:\n",
    "        y[i][lab] = 1\n",
    "\n",
    "#calculate total amount for each label:\n",
    "counts = [(id2tag[i], v) for i, v in enumerate( y.sum( axis=0 ) )]\n",
    "for l, c in counts:\n",
    "    print( l, int( c ) )"
   ]
  },
  {
   "cell_type": "code",
   "execution_count": 18,
   "metadata": {
    "id": "uk5-2I4EuHOb"
   },
   "outputs": [],
   "source": [
    "## Stratification and kfold:\n",
    "\n",
    "from skmultilearn.model_selection import IterativeStratification\n",
    "\n",
    "test_size = 0.2\n",
    "stratifier = IterativeStratification( n_splits=2, order=2, sample_distribution_per_fold=[test_size, 1.0 - test_size] )\n",
    "train_idx, val_idx = next( stratifier.split( data, y ) )\n"
   ]
  },
  {
   "cell_type": "code",
   "execution_count": 19,
   "metadata": {
    "id": "Bsz7Gd6UtBpH"
   },
   "outputs": [],
   "source": [
    "## Split data to train_val according to ids:\n",
    "\n",
    "train_data = [data[idx] for idx in train_idx]\n",
    "val_data = [data[idx] for idx in val_idx]\n"
   ]
  },
  {
   "cell_type": "code",
   "execution_count": 20,
   "metadata": {
    "id": "D5ahqgRDxIPQ"
   },
   "outputs": [],
   "source": [
    "train_texts = [d['text'] for d in train_data]\n",
    "val_texts = [d['text'] for d in val_data]\n"
   ]
  },
  {
   "cell_type": "code",
   "execution_count": 21,
   "metadata": {
    "colab": {
     "base_uri": "https://localhost:8080/",
     "height": 284,
     "referenced_widgets": [
      "2047b85eaf7641cc93c450643783cb09",
      "01ab465ecdbd44449fe5e76d2aec61ab",
      "2b8396a3a48b490a89297a482eae1c2e",
      "29a7beea99ff4a13a418e5d53a7c0396",
      "52b7410fe7004f01831b311dcbe05068",
      "1365fc32e2844148899b21a455ef5eb9",
      "7942f55483dc4feba3ca080cdbe2c84a",
      "5f7d34b0be7d4483a79be0865266a57e",
      "2e8556bf3c5f45a6b04477f3c30854c7",
      "56d1666c786043958d65f59d0c3ad8b1",
      "4499380a84464601a943090997728f40",
      "25ddfad998f34f5e98090c7c84e92b06",
      "e0f18f914f004402b1a6810f55e5f8ae",
      "3f9dc489218a4bc9b5875a27a6b2262b",
      "e8cf77bd81094f91adcab7ee2c775d40",
      "391eb8a211e64d80bdb0a13c2f4f7e1e",
      "88dd01a82a5240f0add8aedd6819bd00",
      "5d4643535634443bab0c720f7bdc4978",
      "abbca89a915b4d648992bf90cb93af5d",
      "2e3f304654b24b359283593dce5cd62b",
      "5c96842082d54108b503d2e4bcf4248e",
      "63152032c61a4b02bd5f4fec36f32f99",
      "a85931917b9b46519c2aeb337594d264",
      "32d5d772799043628ea3699aa34b141d",
      "3ef9a88992f544d5b2910c53d640f9d2",
      "e6276cb825044634ab5478f83eaec0ee",
      "359987a28d2642dd901606188a03f4d0",
      "abe4af2d09e64821aa2d25db787c22d0",
      "624336f28aba429b873b7e72e75a91fa",
      "e0deaa193fdc44efb7bedff98b9fc7d4",
      "ac2e0cf2b25d4623852a57ed462707ac",
      "b64bc0f3f6384188a77f5a682ed13a92",
      "f9ae96ed52f54b51834078ec12ffb968",
      "ab0b66ebf1b24f458856eab916aaebb6",
      "d1f4b240ac0747feae7dd1c95023e017",
      "814b01823b044b37954bd39cdf8e7f08",
      "e06af281356b4ff996e2e3c35ffc4d49",
      "7db026c1c68d41ecb84463d88299ed7a",
      "843aa38ff71d411287374386353a3968",
      "69b6aad9bff84975a66b9be7ed27317d",
      "3eaecd200b984fcd921606e6595cc55c",
      "00e09034a5de4cf0908185c6880d7fcf",
      "a403493e0c37461dbcbc4c68a2f73bab",
      "845c9091ad8e4916a6b8a480763b1537",
      "f30bae51f9774a56b8384115d6b3b198",
      "0e9b04a32e664c86b58e245980c71ba8",
      "3ad1ada3cdc74f1081d6f1d70f35e7ab",
      "1bdca07d216d465d8745b05cfdff44a3",
      "0f99a375bc524d27bfa93062de2e799d",
      "fd9ae0d18ba64b8dad35d88855259eae",
      "813de09a6f3f4082a9f0e2cb385cecd5",
      "18bc92d4972144269b20d648dac7cff3",
      "daf3547d585f44bd9fc1fdca7e78d86e",
      "00bc39aebe064eeb9a377b40e003a783",
      "6f849e45084d4334a5b50a0b2ef39c27"
     ]
    },
    "id": "sCG602f6ycMg",
    "outputId": "a0246dd2-45c0-4b43-c86a-ef91f1b2f451"
   },
   "outputs": [
    {
     "output_type": "display_data",
     "data": {
      "text/plain": [
       "Downloading:   0%|          | 0.00/480 [00:00<?, ?B/s]"
      ],
      "application/vnd.jupyter.widget-view+json": {
       "version_major": 2,
       "version_minor": 0,
       "model_id": "2047b85eaf7641cc93c450643783cb09"
      }
     },
     "metadata": {}
    },
    {
     "output_type": "display_data",
     "data": {
      "text/plain": [
       "Downloading:   0%|          | 0.00/878k [00:00<?, ?B/s]"
      ],
      "application/vnd.jupyter.widget-view+json": {
       "version_major": 2,
       "version_minor": 0,
       "model_id": "25ddfad998f34f5e98090c7c84e92b06"
      }
     },
     "metadata": {}
    },
    {
     "output_type": "display_data",
     "data": {
      "text/plain": [
       "Downloading:   0%|          | 0.00/446k [00:00<?, ?B/s]"
      ],
      "application/vnd.jupyter.widget-view+json": {
       "version_major": 2,
       "version_minor": 0,
       "model_id": "a85931917b9b46519c2aeb337594d264"
      }
     },
     "metadata": {}
    },
    {
     "output_type": "display_data",
     "data": {
      "text/plain": [
       "Downloading:   0%|          | 0.00/1.29M [00:00<?, ?B/s]"
      ],
      "application/vnd.jupyter.widget-view+json": {
       "version_major": 2,
       "version_minor": 0,
       "model_id": "ab0b66ebf1b24f458856eab916aaebb6"
      }
     },
     "metadata": {}
    },
    {
     "output_type": "display_data",
     "data": {
      "text/plain": [
       "Downloading:   0%|          | 0.00/316M [00:00<?, ?B/s]"
      ],
      "application/vnd.jupyter.widget-view+json": {
       "version_major": 2,
       "version_minor": 0,
       "model_id": "f30bae51f9774a56b8384115d6b3b198"
      }
     },
     "metadata": {}
    },
    {
     "output_type": "stream",
     "name": "stderr",
     "text": [
      "Some weights of the model checkpoint at distilroberta-base were not used when initializing RobertaForTokenClassification: ['lm_head.decoder.weight', 'lm_head.bias', 'lm_head.dense.bias', 'lm_head.layer_norm.bias', 'lm_head.layer_norm.weight', 'lm_head.dense.weight']\n",
      "- This IS expected if you are initializing RobertaForTokenClassification from the checkpoint of a model trained on another task or with another architecture (e.g. initializing a BertForSequenceClassification model from a BertForPreTraining model).\n",
      "- This IS NOT expected if you are initializing RobertaForTokenClassification from the checkpoint of a model that you expect to be exactly identical (initializing a BertForSequenceClassification model from a BertForSequenceClassification model).\n",
      "Some weights of RobertaForTokenClassification were not initialized from the model checkpoint at distilroberta-base and are newly initialized: ['classifier.weight', 'classifier.bias']\n",
      "You should probably TRAIN this model on a down-stream task to be able to use it for predictions and inference.\n"
     ]
    }
   ],
   "source": [
    "from transformers import AutoTokenizer, AutoModelForTokenClassification\n",
    "\n",
    "drop = 0.1\n",
    "drop2 = 0.1\n",
    "roberta_kwargs = {'hidden_dropout_prob': drop2, 'attention_probs_dropout_prob': drop, 'classifier_dropout': drop, }\n",
    "model_name = 'distilroberta-base'\n",
    "tokenizer = AutoTokenizer.from_pretrained( model_name )\n",
    "model = AutoModelForTokenClassification.from_pretrained( model_name, num_labels=num_lables, **roberta_kwargs )"
   ]
  },
  {
   "cell_type": "code",
   "execution_count": 22,
   "metadata": {
    "id": "_L_xCtCn485B"
   },
   "outputs": [],
   "source": [
    "train_encodings = tokenizer( train_texts, return_offsets_mapping=True, truncation=True, padding=True )\n",
    "val_encodings = tokenizer( val_texts, return_offsets_mapping=True, truncation=True, padding=True )"
   ]
  },
  {
   "cell_type": "code",
   "execution_count": 23,
   "metadata": {
    "id": "Qdixnl6A5jZX"
   },
   "outputs": [],
   "source": [
    "#6# Encode tags:\n",
    "\n",
    "def encode_tags(data, encodings, tag2id):\n",
    "    encoded_labels = []\n",
    "    for sample, doc_offset in zip( data, encodings.offset_mapping ):\n",
    "        doc_encod_labels = np.ones( len( doc_offset ), dtype=int ) * -100\n",
    "        for ind, (st, end) in enumerate( doc_offset ):\n",
    "            if st == end:\n",
    "                continue\n",
    "            doc_encod_labels[ind] = tag2id['none']\n",
    "            for lab in sample['labels']:\n",
    "                if st >= lab[0] and end <= lab[1]:\n",
    "                    doc_encod_labels[ind] = tag2id[lab[2]]\n",
    "        encoded_labels.append( doc_encod_labels )\n",
    "    return encoded_labels\n"
   ]
  },
  {
   "cell_type": "code",
   "execution_count": 24,
   "metadata": {
    "id": "qfCTS9po-Vjn"
   },
   "outputs": [],
   "source": [
    "train_labels = encode_tags( train_data, train_encodings, tag2id )\n",
    "val_labels = encode_tags( val_data, val_encodings, tag2id )"
   ]
  },
  {
   "cell_type": "code",
   "execution_count": 25,
   "metadata": {
    "colab": {
     "base_uri": "https://localhost:8080/"
    },
    "id": "R26RLotUoYgq",
    "outputId": "9a284062-4be2-4247-ed66-d6a2d8591d89"
   },
   "outputs": [
    {
     "output_type": "execute_result",
     "data": {
      "text/plain": [
       "array([-100,    0,    1,    2,    3,    4,    5,    6,    7,    8])"
      ]
     },
     "metadata": {},
     "execution_count": 25
    }
   ],
   "source": [
    "np.unique( np.array( train_labels ).flatten() )"
   ]
  },
  {
   "cell_type": "code",
   "execution_count": 26,
   "metadata": {
    "id": "QZ4J_Ugdodp9"
   },
   "outputs": [],
   "source": [
    "from sklearn.utils.class_weight import compute_class_weight\n",
    "\n",
    "labs = np.array( train_labels ).flatten()"
   ]
  },
  {
   "cell_type": "code",
   "execution_count": 27,
   "metadata": {
    "colab": {
     "base_uri": "https://localhost:8080/"
    },
    "id": "5bJV1ZhgFBni",
    "outputId": "acf097de-ac98-442a-8048-573676078c61"
   },
   "outputs": [
    {
     "output_type": "stream",
     "name": "stdout",
     "text": [
      "Rating: 1278\n",
      "Dish: 2488\n",
      "Cuisine: 4578\n",
      "Amenity: 4430\n",
      "Hours: 1843\n",
      "Restaurant_Name: 4750\n",
      "Location: 6680\n",
      "Price: 854\n",
      "none: 35214\n"
     ]
    }
   ],
   "source": [
    "labs = labs[labs != -100]\n",
    "for i in id2tag:\n",
    "    print( f\"{id2tag[i]}: {labs[labs == i].shape[0]}\" )"
   ]
  },
  {
   "cell_type": "code",
   "execution_count": 28,
   "metadata": {
    "colab": {
     "base_uri": "https://localhost:8080/"
    },
    "id": "1k6s5L5SKc-U",
    "outputId": "2c9d6ffd-0642-4f1e-e301-38150360f711"
   },
   "outputs": [
    {
     "output_type": "execute_result",
     "data": {
      "text/plain": [
       "array([0.66823161, 0.34324759, 0.18654434, 0.19277652, 0.46337493,\n",
       "       0.17978947, 0.12784431, 1.        , 0.02425172])"
      ]
     },
     "metadata": {},
     "execution_count": 28
    }
   ],
   "source": [
    "## Compute class weights assuming equal importance of classes:\n",
    "\n",
    "class_wts = compute_class_weight( 'balanced', classes=np.unique( labs ), y=labs )\n",
    "class_wts = class_wts / class_wts.max()\n",
    "class_wts"
   ]
  },
  {
   "cell_type": "code",
   "execution_count": 29,
   "metadata": {
    "id": "2XMjKmi-Qe43"
   },
   "outputs": [],
   "source": [
    "## Dataset class\n",
    "\n",
    "import torch\n",
    "\n",
    "\n",
    "class NERDataset( torch.utils.data.Dataset ):\n",
    "    def __init__(self, encodings, labels):\n",
    "        self.encodings = encodings\n",
    "        self.labels = labels\n",
    "\n",
    "    def __getitem__(self, idx):\n",
    "        item = {key: torch.tensor( val[idx] ) for key, val in self.encodings.items()}\n",
    "        item['labels'] = torch.tensor( self.labels[idx] )\n",
    "        return item\n",
    "\n",
    "    def __len__(self):\n",
    "        return len( self.labels )\n",
    "\n",
    "\n",
    "train_encodings.pop( \"offset_mapping\" )  # we don't want to pass this to the model\n",
    "val_encodings.pop( \"offset_mapping\" )\n",
    "train_dataset = NERDataset( train_encodings, train_labels )\n",
    "val_dataset = NERDataset( val_encodings, val_labels )"
   ]
  },
  {
   "cell_type": "code",
   "execution_count": 30,
   "metadata": {
    "id": "Ii6PfPgKRP8Y"
   },
   "outputs": [],
   "source": [
    "import sklearn.metrics\n",
    "\n",
    "class_cnt = len( tag2id )\n",
    "\n",
    "\n",
    "## Metrics:\n",
    "# We use tokenwise MACRO F1 (F1 score averaged over different classes) as a primary evaluation metric\n",
    "\n",
    "def compute_metrics(p):\n",
    "    predictions, labels = p\n",
    "    labels = labels.flatten()\n",
    "    predictions = np.argmax( predictions, axis=2 ).flatten()[labels != -100]\n",
    "    labels = labels[labels != -100]\n",
    "    macro_f1 = sklearn.metrics.f1_score( y_true=labels, y_pred=predictions, average='macro',\n",
    "                                         labels=range( class_cnt - 1 ) )\n",
    "    acc = sklearn.metrics.accuracy_score( y_true=labels, y_pred=predictions )\n",
    "    return {\n",
    "        \"macro f1\": macro_f1,\n",
    "        \"accuracy\": acc,\n",
    "    }"
   ]
  },
  {
   "cell_type": "code",
   "execution_count": 31,
   "metadata": {
    "id": "0PT8iOuNRUaS"
   },
   "outputs": [],
   "source": [
    "## Create trainer with weighted loss:\n",
    "\n",
    "from transformers import Trainer\n",
    "from torch import nn\n",
    "\n",
    "dev = 'cuda' if torch.cuda.is_available() else 'cpu'\n",
    "loss_fct = nn.CrossEntropyLoss( weight=torch.tensor( class_wts, dtype=torch.float32, device=dev ),\n",
    "                                label_smoothing=0.001 )\n",
    "\n",
    "\n",
    "class WeightedTrainer( Trainer ):\n",
    "    def compute_loss(self, model, inputs, return_outputs=False):\n",
    "        labels = inputs.pop( \"labels\" )\n",
    "        labels = labels.view( -1 )\n",
    "        outputs = model( **inputs )\n",
    "        logits = outputs.logits.view( *labels.shape, -1 )\n",
    "        logits = logits[labels != -100]\n",
    "        labels = labels[labels != -100]\n",
    "        loss = loss_fct( logits, labels )\n",
    "        return (loss, outputs) if return_outputs else loss"
   ]
  },
  {
   "cell_type": "code",
   "execution_count": 32,
   "metadata": {
    "colab": {
     "base_uri": "https://localhost:8080/",
     "height": 1000
    },
    "id": "vLxyn3kxeEuW",
    "outputId": "e7177f9e-0b44-4a07-89ae-e4a84bc3c5cc"
   },
   "outputs": [
    {
     "output_type": "stream",
     "name": "stderr",
     "text": [
      "/usr/local/lib/python3.7/dist-packages/transformers/optimization.py:309: FutureWarning: This implementation of AdamW is deprecated and will be removed in a future version. Use the PyTorch implementation torch.optim.AdamW instead, or set `no_deprecation_warning=True` to disable this warning\n",
      "  FutureWarning,\n",
      "***** Running training *****\n",
      "  Num examples = 6128\n",
      "  Num Epochs = 20\n",
      "  Instantaneous batch size per device = 128\n",
      "  Total train batch size (w. parallel, distributed & accumulation) = 128\n",
      "  Gradient Accumulation steps = 1\n",
      "  Total optimization steps = 960\n"
     ]
    },
    {
     "output_type": "display_data",
     "data": {
      "text/plain": [
       "<IPython.core.display.HTML object>"
      ],
      "text/html": [
       "\n",
       "    <div>\n",
       "      \n",
       "      <progress value='960' max='960' style='width:300px; height:20px; vertical-align: middle;'></progress>\n",
       "      [960/960 12:14, Epoch 20/20]\n",
       "    </div>\n",
       "    <table border=\"1\" class=\"dataframe\">\n",
       "  <thead>\n",
       " <tr style=\"text-align: left;\">\n",
       "      <th>Step</th>\n",
       "      <th>Training Loss</th>\n",
       "      <th>Validation Loss</th>\n",
       "      <th>Macro f1</th>\n",
       "      <th>Accuracy</th>\n",
       "    </tr>\n",
       "  </thead>\n",
       "  <tbody>\n",
       "    <tr>\n",
       "      <td>100</td>\n",
       "      <td>0.537600</td>\n",
       "      <td>0.443181</td>\n",
       "      <td>0.747860</td>\n",
       "      <td>0.835850</td>\n",
       "    </tr>\n",
       "    <tr>\n",
       "      <td>200</td>\n",
       "      <td>0.265900</td>\n",
       "      <td>0.320387</td>\n",
       "      <td>0.834212</td>\n",
       "      <td>0.890836</td>\n",
       "    </tr>\n",
       "    <tr>\n",
       "      <td>300</td>\n",
       "      <td>0.176900</td>\n",
       "      <td>0.327778</td>\n",
       "      <td>0.855475</td>\n",
       "      <td>0.917676</td>\n",
       "    </tr>\n",
       "    <tr>\n",
       "      <td>400</td>\n",
       "      <td>0.156400</td>\n",
       "      <td>0.357767</td>\n",
       "      <td>0.851732</td>\n",
       "      <td>0.909848</td>\n",
       "    </tr>\n",
       "    <tr>\n",
       "      <td>500</td>\n",
       "      <td>0.151000</td>\n",
       "      <td>0.371089</td>\n",
       "      <td>0.860311</td>\n",
       "      <td>0.912644</td>\n",
       "    </tr>\n",
       "    <tr>\n",
       "      <td>600</td>\n",
       "      <td>0.097400</td>\n",
       "      <td>0.404161</td>\n",
       "      <td>0.862722</td>\n",
       "      <td>0.917055</td>\n",
       "    </tr>\n",
       "    <tr>\n",
       "      <td>700</td>\n",
       "      <td>0.085400</td>\n",
       "      <td>0.456874</td>\n",
       "      <td>0.865223</td>\n",
       "      <td>0.916558</td>\n",
       "    </tr>\n",
       "    <tr>\n",
       "      <td>800</td>\n",
       "      <td>0.064200</td>\n",
       "      <td>0.493099</td>\n",
       "      <td>0.864459</td>\n",
       "      <td>0.916993</td>\n",
       "    </tr>\n",
       "    <tr>\n",
       "      <td>900</td>\n",
       "      <td>0.052100</td>\n",
       "      <td>0.502246</td>\n",
       "      <td>0.872140</td>\n",
       "      <td>0.923703</td>\n",
       "    </tr>\n",
       "  </tbody>\n",
       "</table><p>"
      ]
     },
     "metadata": {}
    },
    {
     "output_type": "stream",
     "name": "stderr",
     "text": [
      "***** Running Evaluation *****\n",
      "  Num examples = 1532\n",
      "  Batch size = 512\n",
      "Saving model checkpoint to ./results/checkpoint-100\n",
      "Configuration saved in ./results/checkpoint-100/config.json\n",
      "Model weights saved in ./results/checkpoint-100/pytorch_model.bin\n",
      "***** Running Evaluation *****\n",
      "  Num examples = 1532\n",
      "  Batch size = 512\n",
      "Saving model checkpoint to ./results/checkpoint-200\n",
      "Configuration saved in ./results/checkpoint-200/config.json\n",
      "Model weights saved in ./results/checkpoint-200/pytorch_model.bin\n",
      "***** Running Evaluation *****\n",
      "  Num examples = 1532\n",
      "  Batch size = 512\n",
      "Saving model checkpoint to ./results/checkpoint-300\n",
      "Configuration saved in ./results/checkpoint-300/config.json\n",
      "Model weights saved in ./results/checkpoint-300/pytorch_model.bin\n",
      "***** Running Evaluation *****\n",
      "  Num examples = 1532\n",
      "  Batch size = 512\n",
      "Saving model checkpoint to ./results/checkpoint-400\n",
      "Configuration saved in ./results/checkpoint-400/config.json\n",
      "Model weights saved in ./results/checkpoint-400/pytorch_model.bin\n",
      "***** Running Evaluation *****\n",
      "  Num examples = 1532\n",
      "  Batch size = 512\n",
      "Saving model checkpoint to ./results/checkpoint-500\n",
      "Configuration saved in ./results/checkpoint-500/config.json\n",
      "Model weights saved in ./results/checkpoint-500/pytorch_model.bin\n",
      "***** Running Evaluation *****\n",
      "  Num examples = 1532\n",
      "  Batch size = 512\n",
      "Saving model checkpoint to ./results/checkpoint-600\n",
      "Configuration saved in ./results/checkpoint-600/config.json\n",
      "Model weights saved in ./results/checkpoint-600/pytorch_model.bin\n",
      "***** Running Evaluation *****\n",
      "  Num examples = 1532\n",
      "  Batch size = 512\n",
      "Saving model checkpoint to ./results/checkpoint-700\n",
      "Configuration saved in ./results/checkpoint-700/config.json\n",
      "Model weights saved in ./results/checkpoint-700/pytorch_model.bin\n",
      "***** Running Evaluation *****\n",
      "  Num examples = 1532\n",
      "  Batch size = 512\n",
      "Saving model checkpoint to ./results/checkpoint-800\n",
      "Configuration saved in ./results/checkpoint-800/config.json\n",
      "Model weights saved in ./results/checkpoint-800/pytorch_model.bin\n",
      "***** Running Evaluation *****\n",
      "  Num examples = 1532\n",
      "  Batch size = 512\n",
      "Saving model checkpoint to ./results/checkpoint-900\n",
      "Configuration saved in ./results/checkpoint-900/config.json\n",
      "Model weights saved in ./results/checkpoint-900/pytorch_model.bin\n",
      "\n",
      "\n",
      "Training completed. Do not forget to share your model on huggingface.co/models =)\n",
      "\n",
      "\n",
      "Loading best model from ./results/checkpoint-900 (score: 0.8721401011099486).\n"
     ]
    },
    {
     "output_type": "execute_result",
     "data": {
      "text/plain": [
       "TrainOutput(global_step=960, training_loss=0.29305702491352953, metrics={'train_runtime': 735.935, 'train_samples_per_second': 166.536, 'train_steps_per_second': 1.304, 'total_flos': 1157324637732480.0, 'train_loss': 0.29305702491352953, 'epoch': 20.0})"
      ]
     },
     "metadata": {},
     "execution_count": 32
    }
   ],
   "source": [
    "# Train NER:\n",
    "from transformers import TrainingArguments\n",
    "\n",
    "# large batches since samples are short\n",
    "training_args = TrainingArguments(\n",
    "    overwrite_output_dir=True,\n",
    "    output_dir='./results',  # output directory\n",
    "    num_train_epochs=20,  # total number of training epochs\n",
    "    per_device_train_batch_size=128,  # batch size per device during training\n",
    "    per_device_eval_batch_size=512,  # batch size for evaluation\n",
    "    warmup_steps=500,  # number of warmup steps for learning rate scheduler\n",
    "    weight_decay=0.01,  # strength of weight decay\n",
    "    logging_dir='./logs',  # directory for storing logs\n",
    "    logging_steps=10,\n",
    "    evaluation_strategy='steps',\n",
    "    eval_steps=100,\n",
    "    save_steps=100,\n",
    "    save_total_limit=5,\n",
    "    load_best_model_at_end=True,\n",
    "    metric_for_best_model='macro f1',\n",
    "    greater_is_better=True,\n",
    "    learning_rate=1e-4,\n",
    ")\n",
    "\n",
    "trainer = WeightedTrainer(\n",
    "    model=model,  # the instantiated 🤗 Transformers model to be trained\n",
    "    args=training_args,  # training arguments, defined above\n",
    "    train_dataset=train_dataset,  # training dataset\n",
    "    eval_dataset=val_dataset,  # evaluation dataset\n",
    "    compute_metrics=compute_metrics,\n",
    ")\n",
    "\n",
    "trainer.train()\n"
   ]
  },
  {
   "cell_type": "code",
   "execution_count": 33,
   "metadata": {
    "colab": {
     "base_uri": "https://localhost:8080/"
    },
    "id": "CgTuoHn4Mup1",
    "outputId": "44290e47-2c2c-493b-9d7b-92939f1c30d7"
   },
   "outputs": [
    {
     "output_type": "stream",
     "name": "stderr",
     "text": [
      "Saving model checkpoint to /content/gdrive/MyDrive/NER/final\n",
      "Configuration saved in /content/gdrive/MyDrive/NER/final/config.json\n",
      "Model weights saved in /content/gdrive/MyDrive/NER/final/pytorch_model.bin\n"
     ]
    }
   ],
   "source": [
    "trainer.save_model( save_dir )"
   ]
  },
  {
   "cell_type": "code",
   "execution_count": 34,
   "outputs": [],
   "source": [
    "test_data = get_data( 'restauranttest.bio' )\n",
    "test_texts = [d['text'] for d in test_data]\n",
    "test_encodings = tokenizer( test_texts, return_offsets_mapping=True, truncation=True, padding=True )\n",
    "test_labels = encode_tags( test_data, test_encodings, tag2id )\n",
    "test_encodings.pop( \"offset_mapping\" )\n",
    "test_dataset = NERDataset( test_encodings, test_labels )"
   ],
   "metadata": {
    "pycharm": {
     "name": "#%%\n"
    },
    "id": "xN3zHcYRxu3g"
   }
  },
  {
   "cell_type": "code",
   "execution_count": 35,
   "outputs": [
    {
     "output_type": "stream",
     "name": "stderr",
     "text": [
      "***** Running Evaluation *****\n",
      "  Num examples = 1521\n",
      "  Batch size = 512\n"
     ]
    },
    {
     "output_type": "display_data",
     "data": {
      "text/plain": [
       "<IPython.core.display.HTML object>"
      ],
      "text/html": [
       "\n",
       "    <div>\n",
       "      \n",
       "      <progress value='3' max='3' style='width:300px; height:20px; vertical-align: middle;'></progress>\n",
       "      [3/3 00:01]\n",
       "    </div>\n",
       "    "
      ]
     },
     "metadata": {}
    },
    {
     "output_type": "execute_result",
     "data": {
      "text/plain": [
       "{'epoch': 20.0,\n",
       " 'eval_accuracy': 0.9232239566741001,\n",
       " 'eval_loss': 0.4701135456562042,\n",
       " 'eval_macro f1': 0.8749798024905682,\n",
       " 'eval_runtime': 2.4845,\n",
       " 'eval_samples_per_second': 612.198,\n",
       " 'eval_steps_per_second': 1.207}"
      ]
     },
     "metadata": {},
     "execution_count": 35
    }
   ],
   "source": [
    "trainer.evaluate( test_dataset )"
   ],
   "metadata": {
    "pycharm": {
     "name": "#%%\n"
    },
    "id": "NeEdM6hwxu3g",
    "outputId": "a2c8e6a8-b56d-4373-d6f8-7e277d2cc537",
    "colab": {
     "base_uri": "https://localhost:8080/",
     "height": 210
    }
   }
  },
  {
   "cell_type": "markdown",
   "metadata": {
    "id": "V8SVAh52FqEr"
   },
   "source": [
    "## Inference pipeline"
   ]
  },
  {
   "cell_type": "code",
   "execution_count": 36,
   "metadata": {
    "id": "BX8gyndAGtXx"
   },
   "outputs": [],
   "source": [
    "def load_model(path):\n",
    "    model_name = 'distilroberta-base'\n",
    "    tokenizer = AutoTokenizer.from_pretrained( model_name )\n",
    "    model = AutoModelForTokenClassification.from_pretrained( path )\n",
    "    return tokenizer, model"
   ]
  },
  {
   "cell_type": "code",
   "execution_count": 37,
   "metadata": {
    "id": "gNLB69OXFo8X"
   },
   "outputs": [],
   "source": [
    "from transformers import Pipeline\n",
    "\n",
    "\n",
    "class NERPipeline( Pipeline ):\n",
    "    def _sanitize_parameters(self, **kwargs):\n",
    "        postprocess_kwargs = {}\n",
    "        if \"tag2id\" in kwargs:\n",
    "            postprocess_kwargs[\"tag2id\"] = kwargs[\"tag2id\"]\n",
    "        if \"id2tag\" in kwargs:\n",
    "            postprocess_kwargs[\"id2tag\"] = kwargs[\"id2tag\"]\n",
    "        return {}, {}, postprocess_kwargs\n",
    "\n",
    "    def preprocess(self, inputs):\n",
    "        model_input = self.tokenizer( inputs, return_offsets_mapping=True,\n",
    "                                      truncation=True, padding=True )\n",
    "        model_input[\"input_ids\"] = torch.tensor( model_input[\"input_ids\"] ).unsqueeze( 0 )\n",
    "        model_input[\"attention_mask\"] = torch.tensor( model_input[\"attention_mask\"] ).unsqueeze( 0 )\n",
    "        return model_input\n",
    "\n",
    "    def _forward(self, model_inputs):\n",
    "        om = model_inputs.pop( \"offset_mapping\" )\n",
    "        outputs = self.model( **model_inputs )\n",
    "        outputs['offset_mapping'] = om\n",
    "        return outputs\n",
    "\n",
    "    def postprocess(self, model_outputs, tag2id=tag2id, id2tag=id2tag):\n",
    "        logits = model_outputs.logits\n",
    "        pred = logits.argmax( dim=-1 ).squeeze().cpu().numpy()\n",
    "        doc_offset = model_outputs.offset_mapping\n",
    "        all_lab = []\n",
    "        curr = tag2id['none']\n",
    "        curr_start = 0\n",
    "        curr_end = 0\n",
    "        for ind, (start_pos, end_pos) in enumerate( doc_offset ):\n",
    "            if start_pos == end_pos:\n",
    "                continue\n",
    "            lab = pred[ind]\n",
    "            if lab != curr:\n",
    "                if curr != tag2id['none']:\n",
    "                    all_lab.append( [curr_start, curr_end, id2tag[curr]] )\n",
    "                curr_start, curr_end = start_pos, end_pos\n",
    "                curr = lab\n",
    "            else:\n",
    "                curr_end = end_pos\n",
    "\n",
    "        return all_lab"
   ]
  },
  {
   "cell_type": "code",
   "execution_count": 38,
   "metadata": {
    "id": "NVKx-vuQhFhV",
    "outputId": "8c94561a-d110-4193-bc9d-1ddf3a85f081",
    "colab": {
     "base_uri": "https://localhost:8080/"
    }
   },
   "outputs": [
    {
     "output_type": "stream",
     "name": "stderr",
     "text": [
      "Could not locate the tokenizer configuration file, will try to use the model config instead.\n",
      "loading configuration file https://huggingface.co/distilroberta-base/resolve/main/config.json from cache at /root/.cache/huggingface/transformers/42d6b7c87cbac84fcdf35aa69504a5ccfca878fcee2a1a9b9ff7a3d1297f9094.aa95727ac70adfa1aaf5c88bea30a4f5e50869c68e68bce96ef1ec41b5facf46\n",
      "Model config RobertaConfig {\n",
      "  \"_name_or_path\": \"distilroberta-base\",\n",
      "  \"architectures\": [\n",
      "    \"RobertaForMaskedLM\"\n",
      "  ],\n",
      "  \"attention_probs_dropout_prob\": 0.1,\n",
      "  \"bos_token_id\": 0,\n",
      "  \"classifier_dropout\": null,\n",
      "  \"eos_token_id\": 2,\n",
      "  \"hidden_act\": \"gelu\",\n",
      "  \"hidden_dropout_prob\": 0.1,\n",
      "  \"hidden_size\": 768,\n",
      "  \"initializer_range\": 0.02,\n",
      "  \"intermediate_size\": 3072,\n",
      "  \"layer_norm_eps\": 1e-05,\n",
      "  \"max_position_embeddings\": 514,\n",
      "  \"model_type\": \"roberta\",\n",
      "  \"num_attention_heads\": 12,\n",
      "  \"num_hidden_layers\": 6,\n",
      "  \"pad_token_id\": 1,\n",
      "  \"position_embedding_type\": \"absolute\",\n",
      "  \"transformers_version\": \"4.18.0\",\n",
      "  \"type_vocab_size\": 1,\n",
      "  \"use_cache\": true,\n",
      "  \"vocab_size\": 50265\n",
      "}\n",
      "\n",
      "loading file https://huggingface.co/distilroberta-base/resolve/main/vocab.json from cache at /root/.cache/huggingface/transformers/23e0f7484fc8a320856b168861166b48c2976bb4e0861602422e1b0c3fe5bf61.d67d6b367eb24ab43b08ad55e014cf254076934f71d832bbab9ad35644a375ab\n",
      "loading file https://huggingface.co/distilroberta-base/resolve/main/merges.txt from cache at /root/.cache/huggingface/transformers/c7e8020011da613ff5a9175ddad64cd47238a9525db975eb50ecb965e9f7302f.5d12962c5ee615a4c803841266e9c3be9a691a924f72d395d3a6c6c81157788b\n",
      "loading file https://huggingface.co/distilroberta-base/resolve/main/tokenizer.json from cache at /root/.cache/huggingface/transformers/b6a9ca6504e67903474c3fdf82ba249882406e61c2176a9d4dc9c3691c663767.fc9576039592f026ad76a1c231b89aee8668488c671dfbe6616bab2ed298d730\n",
      "loading file https://huggingface.co/distilroberta-base/resolve/main/added_tokens.json from cache at None\n",
      "loading file https://huggingface.co/distilroberta-base/resolve/main/special_tokens_map.json from cache at None\n",
      "loading file https://huggingface.co/distilroberta-base/resolve/main/tokenizer_config.json from cache at None\n",
      "loading configuration file https://huggingface.co/distilroberta-base/resolve/main/config.json from cache at /root/.cache/huggingface/transformers/42d6b7c87cbac84fcdf35aa69504a5ccfca878fcee2a1a9b9ff7a3d1297f9094.aa95727ac70adfa1aaf5c88bea30a4f5e50869c68e68bce96ef1ec41b5facf46\n",
      "Model config RobertaConfig {\n",
      "  \"_name_or_path\": \"distilroberta-base\",\n",
      "  \"architectures\": [\n",
      "    \"RobertaForMaskedLM\"\n",
      "  ],\n",
      "  \"attention_probs_dropout_prob\": 0.1,\n",
      "  \"bos_token_id\": 0,\n",
      "  \"classifier_dropout\": null,\n",
      "  \"eos_token_id\": 2,\n",
      "  \"hidden_act\": \"gelu\",\n",
      "  \"hidden_dropout_prob\": 0.1,\n",
      "  \"hidden_size\": 768,\n",
      "  \"initializer_range\": 0.02,\n",
      "  \"intermediate_size\": 3072,\n",
      "  \"layer_norm_eps\": 1e-05,\n",
      "  \"max_position_embeddings\": 514,\n",
      "  \"model_type\": \"roberta\",\n",
      "  \"num_attention_heads\": 12,\n",
      "  \"num_hidden_layers\": 6,\n",
      "  \"pad_token_id\": 1,\n",
      "  \"position_embedding_type\": \"absolute\",\n",
      "  \"transformers_version\": \"4.18.0\",\n",
      "  \"type_vocab_size\": 1,\n",
      "  \"use_cache\": true,\n",
      "  \"vocab_size\": 50265\n",
      "}\n",
      "\n",
      "loading configuration file /content/gdrive/MyDrive/NER/final/config.json\n",
      "Model config RobertaConfig {\n",
      "  \"_name_or_path\": \"/content/gdrive/MyDrive/NER/final\",\n",
      "  \"architectures\": [\n",
      "    \"RobertaForTokenClassification\"\n",
      "  ],\n",
      "  \"attention_probs_dropout_prob\": 0.1,\n",
      "  \"bos_token_id\": 0,\n",
      "  \"classifier_dropout\": 0.1,\n",
      "  \"eos_token_id\": 2,\n",
      "  \"hidden_act\": \"gelu\",\n",
      "  \"hidden_dropout_prob\": 0.1,\n",
      "  \"hidden_size\": 768,\n",
      "  \"id2label\": {\n",
      "    \"0\": \"LABEL_0\",\n",
      "    \"1\": \"LABEL_1\",\n",
      "    \"2\": \"LABEL_2\",\n",
      "    \"3\": \"LABEL_3\",\n",
      "    \"4\": \"LABEL_4\",\n",
      "    \"5\": \"LABEL_5\",\n",
      "    \"6\": \"LABEL_6\",\n",
      "    \"7\": \"LABEL_7\",\n",
      "    \"8\": \"LABEL_8\"\n",
      "  },\n",
      "  \"initializer_range\": 0.02,\n",
      "  \"intermediate_size\": 3072,\n",
      "  \"label2id\": {\n",
      "    \"LABEL_0\": 0,\n",
      "    \"LABEL_1\": 1,\n",
      "    \"LABEL_2\": 2,\n",
      "    \"LABEL_3\": 3,\n",
      "    \"LABEL_4\": 4,\n",
      "    \"LABEL_5\": 5,\n",
      "    \"LABEL_6\": 6,\n",
      "    \"LABEL_7\": 7,\n",
      "    \"LABEL_8\": 8\n",
      "  },\n",
      "  \"layer_norm_eps\": 1e-05,\n",
      "  \"max_position_embeddings\": 514,\n",
      "  \"model_type\": \"roberta\",\n",
      "  \"num_attention_heads\": 12,\n",
      "  \"num_hidden_layers\": 6,\n",
      "  \"pad_token_id\": 1,\n",
      "  \"position_embedding_type\": \"absolute\",\n",
      "  \"torch_dtype\": \"float32\",\n",
      "  \"transformers_version\": \"4.18.0\",\n",
      "  \"type_vocab_size\": 1,\n",
      "  \"use_cache\": true,\n",
      "  \"vocab_size\": 50265\n",
      "}\n",
      "\n",
      "loading weights file /content/gdrive/MyDrive/NER/final/pytorch_model.bin\n",
      "All model checkpoint weights were used when initializing RobertaForTokenClassification.\n",
      "\n",
      "All the weights of RobertaForTokenClassification were initialized from the model checkpoint at /content/gdrive/MyDrive/NER/final.\n",
      "If your task is similar to the task the model of the checkpoint was trained on, you can already use RobertaForTokenClassification for predictions without further training.\n"
     ]
    }
   ],
   "source": [
    "tokenizer, model = load_model( save_dir )\n",
    "pipe = NERPipeline( tokenizer=tokenizer, model=model )"
   ]
  },
  {
   "cell_type": "code",
   "execution_count": 39,
   "metadata": {
    "id": "V6YEirUTLYWe",
    "outputId": "151f52d2-fb19-4f9e-8e69-7a0d01e6f3f8",
    "colab": {
     "base_uri": "https://localhost:8080/"
    }
   },
   "outputs": [
    {
     "output_type": "stream",
     "name": "stderr",
     "text": [
      "Disabling tokenizer parallelism, we're using DataLoader multithreading already\n"
     ]
    }
   ],
   "source": [
    "input_batch = [\"5 star resturants in my town\",\n",
    "               \"a great lunch spot but open till 2 a m passims kitchen\"]\n",
    "outputs = pipe( input_batch )"
   ]
  },
  {
   "cell_type": "code",
   "execution_count": 40,
   "metadata": {
    "colab": {
     "base_uri": "https://localhost:8080/"
    },
    "id": "j742kdRvPFHP",
    "outputId": "3938a17c-ea91-4608-ab8e-d8caef55e0a9"
   },
   "outputs": [
    {
     "output_type": "stream",
     "name": "stdout",
     "text": [
      "\n",
      "\n",
      "### SAMPLE ###\n",
      "5 star resturants in my town\n",
      "LABEL: Rating, TEXT: 5 star\n",
      "\n",
      "\n",
      "### SAMPLE ###\n",
      "a great lunch spot but open till 2 a m passims kitchen\n",
      "LABEL: Rating, TEXT: great\n",
      "LABEL: Hours, TEXT: lunch\n",
      "LABEL: Hours, TEXT: open till 2 a m\n"
     ]
    }
   ],
   "source": [
    "for inp, out in zip( input_batch, outputs ):\n",
    "    print( '\\n\\n### SAMPLE ###' )\n",
    "    print( inp )\n",
    "    for (start, end, label) in out:\n",
    "        print( f'LABEL: {label}, TEXT: {inp[start:end]}' )"
   ]
  },
  {
   "cell_type": "markdown",
   "metadata": {
    "id": "6hobkb6xczA9"
   },
   "source": [
    "## The end"
   ]
  }
 ],
 "metadata": {
  "accelerator": "GPU",
  "colab": {
   "collapsed_sections": [],
   "name": "NER_pipeline.ipynb",
   "provenance": []
  },
  "kernelspec": {
   "display_name": "Python 3",
   "name": "python3"
  },
  "language_info": {
   "name": "python"
  },
  "widgets": {
   "application/vnd.jupyter.widget-state+json": {
    "2047b85eaf7641cc93c450643783cb09": {
     "model_module": "@jupyter-widgets/controls",
     "model_name": "HBoxModel",
     "model_module_version": "1.5.0",
     "state": {
      "_dom_classes": [],
      "_model_module": "@jupyter-widgets/controls",
      "_model_module_version": "1.5.0",
      "_model_name": "HBoxModel",
      "_view_count": null,
      "_view_module": "@jupyter-widgets/controls",
      "_view_module_version": "1.5.0",
      "_view_name": "HBoxView",
      "box_style": "",
      "children": [
       "IPY_MODEL_01ab465ecdbd44449fe5e76d2aec61ab",
       "IPY_MODEL_2b8396a3a48b490a89297a482eae1c2e",
       "IPY_MODEL_29a7beea99ff4a13a418e5d53a7c0396"
      ],
      "layout": "IPY_MODEL_52b7410fe7004f01831b311dcbe05068"
     }
    },
    "01ab465ecdbd44449fe5e76d2aec61ab": {
     "model_module": "@jupyter-widgets/controls",
     "model_name": "HTMLModel",
     "model_module_version": "1.5.0",
     "state": {
      "_dom_classes": [],
      "_model_module": "@jupyter-widgets/controls",
      "_model_module_version": "1.5.0",
      "_model_name": "HTMLModel",
      "_view_count": null,
      "_view_module": "@jupyter-widgets/controls",
      "_view_module_version": "1.5.0",
      "_view_name": "HTMLView",
      "description": "",
      "description_tooltip": null,
      "layout": "IPY_MODEL_1365fc32e2844148899b21a455ef5eb9",
      "placeholder": "​",
      "style": "IPY_MODEL_7942f55483dc4feba3ca080cdbe2c84a",
      "value": "Downloading: 100%"
     }
    },
    "2b8396a3a48b490a89297a482eae1c2e": {
     "model_module": "@jupyter-widgets/controls",
     "model_name": "FloatProgressModel",
     "model_module_version": "1.5.0",
     "state": {
      "_dom_classes": [],
      "_model_module": "@jupyter-widgets/controls",
      "_model_module_version": "1.5.0",
      "_model_name": "FloatProgressModel",
      "_view_count": null,
      "_view_module": "@jupyter-widgets/controls",
      "_view_module_version": "1.5.0",
      "_view_name": "ProgressView",
      "bar_style": "success",
      "description": "",
      "description_tooltip": null,
      "layout": "IPY_MODEL_5f7d34b0be7d4483a79be0865266a57e",
      "max": 480,
      "min": 0,
      "orientation": "horizontal",
      "style": "IPY_MODEL_2e8556bf3c5f45a6b04477f3c30854c7",
      "value": 480
     }
    },
    "29a7beea99ff4a13a418e5d53a7c0396": {
     "model_module": "@jupyter-widgets/controls",
     "model_name": "HTMLModel",
     "model_module_version": "1.5.0",
     "state": {
      "_dom_classes": [],
      "_model_module": "@jupyter-widgets/controls",
      "_model_module_version": "1.5.0",
      "_model_name": "HTMLModel",
      "_view_count": null,
      "_view_module": "@jupyter-widgets/controls",
      "_view_module_version": "1.5.0",
      "_view_name": "HTMLView",
      "description": "",
      "description_tooltip": null,
      "layout": "IPY_MODEL_56d1666c786043958d65f59d0c3ad8b1",
      "placeholder": "​",
      "style": "IPY_MODEL_4499380a84464601a943090997728f40",
      "value": " 480/480 [00:00&lt;00:00, 5.31kB/s]"
     }
    },
    "52b7410fe7004f01831b311dcbe05068": {
     "model_module": "@jupyter-widgets/base",
     "model_name": "LayoutModel",
     "model_module_version": "1.2.0",
     "state": {
      "_model_module": "@jupyter-widgets/base",
      "_model_module_version": "1.2.0",
      "_model_name": "LayoutModel",
      "_view_count": null,
      "_view_module": "@jupyter-widgets/base",
      "_view_module_version": "1.2.0",
      "_view_name": "LayoutView",
      "align_content": null,
      "align_items": null,
      "align_self": null,
      "border": null,
      "bottom": null,
      "display": null,
      "flex": null,
      "flex_flow": null,
      "grid_area": null,
      "grid_auto_columns": null,
      "grid_auto_flow": null,
      "grid_auto_rows": null,
      "grid_column": null,
      "grid_gap": null,
      "grid_row": null,
      "grid_template_areas": null,
      "grid_template_columns": null,
      "grid_template_rows": null,
      "height": null,
      "justify_content": null,
      "justify_items": null,
      "left": null,
      "margin": null,
      "max_height": null,
      "max_width": null,
      "min_height": null,
      "min_width": null,
      "object_fit": null,
      "object_position": null,
      "order": null,
      "overflow": null,
      "overflow_x": null,
      "overflow_y": null,
      "padding": null,
      "right": null,
      "top": null,
      "visibility": null,
      "width": null
     }
    },
    "1365fc32e2844148899b21a455ef5eb9": {
     "model_module": "@jupyter-widgets/base",
     "model_name": "LayoutModel",
     "model_module_version": "1.2.0",
     "state": {
      "_model_module": "@jupyter-widgets/base",
      "_model_module_version": "1.2.0",
      "_model_name": "LayoutModel",
      "_view_count": null,
      "_view_module": "@jupyter-widgets/base",
      "_view_module_version": "1.2.0",
      "_view_name": "LayoutView",
      "align_content": null,
      "align_items": null,
      "align_self": null,
      "border": null,
      "bottom": null,
      "display": null,
      "flex": null,
      "flex_flow": null,
      "grid_area": null,
      "grid_auto_columns": null,
      "grid_auto_flow": null,
      "grid_auto_rows": null,
      "grid_column": null,
      "grid_gap": null,
      "grid_row": null,
      "grid_template_areas": null,
      "grid_template_columns": null,
      "grid_template_rows": null,
      "height": null,
      "justify_content": null,
      "justify_items": null,
      "left": null,
      "margin": null,
      "max_height": null,
      "max_width": null,
      "min_height": null,
      "min_width": null,
      "object_fit": null,
      "object_position": null,
      "order": null,
      "overflow": null,
      "overflow_x": null,
      "overflow_y": null,
      "padding": null,
      "right": null,
      "top": null,
      "visibility": null,
      "width": null
     }
    },
    "7942f55483dc4feba3ca080cdbe2c84a": {
     "model_module": "@jupyter-widgets/controls",
     "model_name": "DescriptionStyleModel",
     "model_module_version": "1.5.0",
     "state": {
      "_model_module": "@jupyter-widgets/controls",
      "_model_module_version": "1.5.0",
      "_model_name": "DescriptionStyleModel",
      "_view_count": null,
      "_view_module": "@jupyter-widgets/base",
      "_view_module_version": "1.2.0",
      "_view_name": "StyleView",
      "description_width": ""
     }
    },
    "5f7d34b0be7d4483a79be0865266a57e": {
     "model_module": "@jupyter-widgets/base",
     "model_name": "LayoutModel",
     "model_module_version": "1.2.0",
     "state": {
      "_model_module": "@jupyter-widgets/base",
      "_model_module_version": "1.2.0",
      "_model_name": "LayoutModel",
      "_view_count": null,
      "_view_module": "@jupyter-widgets/base",
      "_view_module_version": "1.2.0",
      "_view_name": "LayoutView",
      "align_content": null,
      "align_items": null,
      "align_self": null,
      "border": null,
      "bottom": null,
      "display": null,
      "flex": null,
      "flex_flow": null,
      "grid_area": null,
      "grid_auto_columns": null,
      "grid_auto_flow": null,
      "grid_auto_rows": null,
      "grid_column": null,
      "grid_gap": null,
      "grid_row": null,
      "grid_template_areas": null,
      "grid_template_columns": null,
      "grid_template_rows": null,
      "height": null,
      "justify_content": null,
      "justify_items": null,
      "left": null,
      "margin": null,
      "max_height": null,
      "max_width": null,
      "min_height": null,
      "min_width": null,
      "object_fit": null,
      "object_position": null,
      "order": null,
      "overflow": null,
      "overflow_x": null,
      "overflow_y": null,
      "padding": null,
      "right": null,
      "top": null,
      "visibility": null,
      "width": null
     }
    },
    "2e8556bf3c5f45a6b04477f3c30854c7": {
     "model_module": "@jupyter-widgets/controls",
     "model_name": "ProgressStyleModel",
     "model_module_version": "1.5.0",
     "state": {
      "_model_module": "@jupyter-widgets/controls",
      "_model_module_version": "1.5.0",
      "_model_name": "ProgressStyleModel",
      "_view_count": null,
      "_view_module": "@jupyter-widgets/base",
      "_view_module_version": "1.2.0",
      "_view_name": "StyleView",
      "bar_color": null,
      "description_width": ""
     }
    },
    "56d1666c786043958d65f59d0c3ad8b1": {
     "model_module": "@jupyter-widgets/base",
     "model_name": "LayoutModel",
     "model_module_version": "1.2.0",
     "state": {
      "_model_module": "@jupyter-widgets/base",
      "_model_module_version": "1.2.0",
      "_model_name": "LayoutModel",
      "_view_count": null,
      "_view_module": "@jupyter-widgets/base",
      "_view_module_version": "1.2.0",
      "_view_name": "LayoutView",
      "align_content": null,
      "align_items": null,
      "align_self": null,
      "border": null,
      "bottom": null,
      "display": null,
      "flex": null,
      "flex_flow": null,
      "grid_area": null,
      "grid_auto_columns": null,
      "grid_auto_flow": null,
      "grid_auto_rows": null,
      "grid_column": null,
      "grid_gap": null,
      "grid_row": null,
      "grid_template_areas": null,
      "grid_template_columns": null,
      "grid_template_rows": null,
      "height": null,
      "justify_content": null,
      "justify_items": null,
      "left": null,
      "margin": null,
      "max_height": null,
      "max_width": null,
      "min_height": null,
      "min_width": null,
      "object_fit": null,
      "object_position": null,
      "order": null,
      "overflow": null,
      "overflow_x": null,
      "overflow_y": null,
      "padding": null,
      "right": null,
      "top": null,
      "visibility": null,
      "width": null
     }
    },
    "4499380a84464601a943090997728f40": {
     "model_module": "@jupyter-widgets/controls",
     "model_name": "DescriptionStyleModel",
     "model_module_version": "1.5.0",
     "state": {
      "_model_module": "@jupyter-widgets/controls",
      "_model_module_version": "1.5.0",
      "_model_name": "DescriptionStyleModel",
      "_view_count": null,
      "_view_module": "@jupyter-widgets/base",
      "_view_module_version": "1.2.0",
      "_view_name": "StyleView",
      "description_width": ""
     }
    },
    "25ddfad998f34f5e98090c7c84e92b06": {
     "model_module": "@jupyter-widgets/controls",
     "model_name": "HBoxModel",
     "model_module_version": "1.5.0",
     "state": {
      "_dom_classes": [],
      "_model_module": "@jupyter-widgets/controls",
      "_model_module_version": "1.5.0",
      "_model_name": "HBoxModel",
      "_view_count": null,
      "_view_module": "@jupyter-widgets/controls",
      "_view_module_version": "1.5.0",
      "_view_name": "HBoxView",
      "box_style": "",
      "children": [
       "IPY_MODEL_e0f18f914f004402b1a6810f55e5f8ae",
       "IPY_MODEL_3f9dc489218a4bc9b5875a27a6b2262b",
       "IPY_MODEL_e8cf77bd81094f91adcab7ee2c775d40"
      ],
      "layout": "IPY_MODEL_391eb8a211e64d80bdb0a13c2f4f7e1e"
     }
    },
    "e0f18f914f004402b1a6810f55e5f8ae": {
     "model_module": "@jupyter-widgets/controls",
     "model_name": "HTMLModel",
     "model_module_version": "1.5.0",
     "state": {
      "_dom_classes": [],
      "_model_module": "@jupyter-widgets/controls",
      "_model_module_version": "1.5.0",
      "_model_name": "HTMLModel",
      "_view_count": null,
      "_view_module": "@jupyter-widgets/controls",
      "_view_module_version": "1.5.0",
      "_view_name": "HTMLView",
      "description": "",
      "description_tooltip": null,
      "layout": "IPY_MODEL_88dd01a82a5240f0add8aedd6819bd00",
      "placeholder": "​",
      "style": "IPY_MODEL_5d4643535634443bab0c720f7bdc4978",
      "value": "Downloading: 100%"
     }
    },
    "3f9dc489218a4bc9b5875a27a6b2262b": {
     "model_module": "@jupyter-widgets/controls",
     "model_name": "FloatProgressModel",
     "model_module_version": "1.5.0",
     "state": {
      "_dom_classes": [],
      "_model_module": "@jupyter-widgets/controls",
      "_model_module_version": "1.5.0",
      "_model_name": "FloatProgressModel",
      "_view_count": null,
      "_view_module": "@jupyter-widgets/controls",
      "_view_module_version": "1.5.0",
      "_view_name": "ProgressView",
      "bar_style": "success",
      "description": "",
      "description_tooltip": null,
      "layout": "IPY_MODEL_abbca89a915b4d648992bf90cb93af5d",
      "max": 898823,
      "min": 0,
      "orientation": "horizontal",
      "style": "IPY_MODEL_2e3f304654b24b359283593dce5cd62b",
      "value": 898823
     }
    },
    "e8cf77bd81094f91adcab7ee2c775d40": {
     "model_module": "@jupyter-widgets/controls",
     "model_name": "HTMLModel",
     "model_module_version": "1.5.0",
     "state": {
      "_dom_classes": [],
      "_model_module": "@jupyter-widgets/controls",
      "_model_module_version": "1.5.0",
      "_model_name": "HTMLModel",
      "_view_count": null,
      "_view_module": "@jupyter-widgets/controls",
      "_view_module_version": "1.5.0",
      "_view_name": "HTMLView",
      "description": "",
      "description_tooltip": null,
      "layout": "IPY_MODEL_5c96842082d54108b503d2e4bcf4248e",
      "placeholder": "​",
      "style": "IPY_MODEL_63152032c61a4b02bd5f4fec36f32f99",
      "value": " 878k/878k [00:00&lt;00:00, 689kB/s]"
     }
    },
    "391eb8a211e64d80bdb0a13c2f4f7e1e": {
     "model_module": "@jupyter-widgets/base",
     "model_name": "LayoutModel",
     "model_module_version": "1.2.0",
     "state": {
      "_model_module": "@jupyter-widgets/base",
      "_model_module_version": "1.2.0",
      "_model_name": "LayoutModel",
      "_view_count": null,
      "_view_module": "@jupyter-widgets/base",
      "_view_module_version": "1.2.0",
      "_view_name": "LayoutView",
      "align_content": null,
      "align_items": null,
      "align_self": null,
      "border": null,
      "bottom": null,
      "display": null,
      "flex": null,
      "flex_flow": null,
      "grid_area": null,
      "grid_auto_columns": null,
      "grid_auto_flow": null,
      "grid_auto_rows": null,
      "grid_column": null,
      "grid_gap": null,
      "grid_row": null,
      "grid_template_areas": null,
      "grid_template_columns": null,
      "grid_template_rows": null,
      "height": null,
      "justify_content": null,
      "justify_items": null,
      "left": null,
      "margin": null,
      "max_height": null,
      "max_width": null,
      "min_height": null,
      "min_width": null,
      "object_fit": null,
      "object_position": null,
      "order": null,
      "overflow": null,
      "overflow_x": null,
      "overflow_y": null,
      "padding": null,
      "right": null,
      "top": null,
      "visibility": null,
      "width": null
     }
    },
    "88dd01a82a5240f0add8aedd6819bd00": {
     "model_module": "@jupyter-widgets/base",
     "model_name": "LayoutModel",
     "model_module_version": "1.2.0",
     "state": {
      "_model_module": "@jupyter-widgets/base",
      "_model_module_version": "1.2.0",
      "_model_name": "LayoutModel",
      "_view_count": null,
      "_view_module": "@jupyter-widgets/base",
      "_view_module_version": "1.2.0",
      "_view_name": "LayoutView",
      "align_content": null,
      "align_items": null,
      "align_self": null,
      "border": null,
      "bottom": null,
      "display": null,
      "flex": null,
      "flex_flow": null,
      "grid_area": null,
      "grid_auto_columns": null,
      "grid_auto_flow": null,
      "grid_auto_rows": null,
      "grid_column": null,
      "grid_gap": null,
      "grid_row": null,
      "grid_template_areas": null,
      "grid_template_columns": null,
      "grid_template_rows": null,
      "height": null,
      "justify_content": null,
      "justify_items": null,
      "left": null,
      "margin": null,
      "max_height": null,
      "max_width": null,
      "min_height": null,
      "min_width": null,
      "object_fit": null,
      "object_position": null,
      "order": null,
      "overflow": null,
      "overflow_x": null,
      "overflow_y": null,
      "padding": null,
      "right": null,
      "top": null,
      "visibility": null,
      "width": null
     }
    },
    "5d4643535634443bab0c720f7bdc4978": {
     "model_module": "@jupyter-widgets/controls",
     "model_name": "DescriptionStyleModel",
     "model_module_version": "1.5.0",
     "state": {
      "_model_module": "@jupyter-widgets/controls",
      "_model_module_version": "1.5.0",
      "_model_name": "DescriptionStyleModel",
      "_view_count": null,
      "_view_module": "@jupyter-widgets/base",
      "_view_module_version": "1.2.0",
      "_view_name": "StyleView",
      "description_width": ""
     }
    },
    "abbca89a915b4d648992bf90cb93af5d": {
     "model_module": "@jupyter-widgets/base",
     "model_name": "LayoutModel",
     "model_module_version": "1.2.0",
     "state": {
      "_model_module": "@jupyter-widgets/base",
      "_model_module_version": "1.2.0",
      "_model_name": "LayoutModel",
      "_view_count": null,
      "_view_module": "@jupyter-widgets/base",
      "_view_module_version": "1.2.0",
      "_view_name": "LayoutView",
      "align_content": null,
      "align_items": null,
      "align_self": null,
      "border": null,
      "bottom": null,
      "display": null,
      "flex": null,
      "flex_flow": null,
      "grid_area": null,
      "grid_auto_columns": null,
      "grid_auto_flow": null,
      "grid_auto_rows": null,
      "grid_column": null,
      "grid_gap": null,
      "grid_row": null,
      "grid_template_areas": null,
      "grid_template_columns": null,
      "grid_template_rows": null,
      "height": null,
      "justify_content": null,
      "justify_items": null,
      "left": null,
      "margin": null,
      "max_height": null,
      "max_width": null,
      "min_height": null,
      "min_width": null,
      "object_fit": null,
      "object_position": null,
      "order": null,
      "overflow": null,
      "overflow_x": null,
      "overflow_y": null,
      "padding": null,
      "right": null,
      "top": null,
      "visibility": null,
      "width": null
     }
    },
    "2e3f304654b24b359283593dce5cd62b": {
     "model_module": "@jupyter-widgets/controls",
     "model_name": "ProgressStyleModel",
     "model_module_version": "1.5.0",
     "state": {
      "_model_module": "@jupyter-widgets/controls",
      "_model_module_version": "1.5.0",
      "_model_name": "ProgressStyleModel",
      "_view_count": null,
      "_view_module": "@jupyter-widgets/base",
      "_view_module_version": "1.2.0",
      "_view_name": "StyleView",
      "bar_color": null,
      "description_width": ""
     }
    },
    "5c96842082d54108b503d2e4bcf4248e": {
     "model_module": "@jupyter-widgets/base",
     "model_name": "LayoutModel",
     "model_module_version": "1.2.0",
     "state": {
      "_model_module": "@jupyter-widgets/base",
      "_model_module_version": "1.2.0",
      "_model_name": "LayoutModel",
      "_view_count": null,
      "_view_module": "@jupyter-widgets/base",
      "_view_module_version": "1.2.0",
      "_view_name": "LayoutView",
      "align_content": null,
      "align_items": null,
      "align_self": null,
      "border": null,
      "bottom": null,
      "display": null,
      "flex": null,
      "flex_flow": null,
      "grid_area": null,
      "grid_auto_columns": null,
      "grid_auto_flow": null,
      "grid_auto_rows": null,
      "grid_column": null,
      "grid_gap": null,
      "grid_row": null,
      "grid_template_areas": null,
      "grid_template_columns": null,
      "grid_template_rows": null,
      "height": null,
      "justify_content": null,
      "justify_items": null,
      "left": null,
      "margin": null,
      "max_height": null,
      "max_width": null,
      "min_height": null,
      "min_width": null,
      "object_fit": null,
      "object_position": null,
      "order": null,
      "overflow": null,
      "overflow_x": null,
      "overflow_y": null,
      "padding": null,
      "right": null,
      "top": null,
      "visibility": null,
      "width": null
     }
    },
    "63152032c61a4b02bd5f4fec36f32f99": {
     "model_module": "@jupyter-widgets/controls",
     "model_name": "DescriptionStyleModel",
     "model_module_version": "1.5.0",
     "state": {
      "_model_module": "@jupyter-widgets/controls",
      "_model_module_version": "1.5.0",
      "_model_name": "DescriptionStyleModel",
      "_view_count": null,
      "_view_module": "@jupyter-widgets/base",
      "_view_module_version": "1.2.0",
      "_view_name": "StyleView",
      "description_width": ""
     }
    },
    "a85931917b9b46519c2aeb337594d264": {
     "model_module": "@jupyter-widgets/controls",
     "model_name": "HBoxModel",
     "model_module_version": "1.5.0",
     "state": {
      "_dom_classes": [],
      "_model_module": "@jupyter-widgets/controls",
      "_model_module_version": "1.5.0",
      "_model_name": "HBoxModel",
      "_view_count": null,
      "_view_module": "@jupyter-widgets/controls",
      "_view_module_version": "1.5.0",
      "_view_name": "HBoxView",
      "box_style": "",
      "children": [
       "IPY_MODEL_32d5d772799043628ea3699aa34b141d",
       "IPY_MODEL_3ef9a88992f544d5b2910c53d640f9d2",
       "IPY_MODEL_e6276cb825044634ab5478f83eaec0ee"
      ],
      "layout": "IPY_MODEL_359987a28d2642dd901606188a03f4d0"
     }
    },
    "32d5d772799043628ea3699aa34b141d": {
     "model_module": "@jupyter-widgets/controls",
     "model_name": "HTMLModel",
     "model_module_version": "1.5.0",
     "state": {
      "_dom_classes": [],
      "_model_module": "@jupyter-widgets/controls",
      "_model_module_version": "1.5.0",
      "_model_name": "HTMLModel",
      "_view_count": null,
      "_view_module": "@jupyter-widgets/controls",
      "_view_module_version": "1.5.0",
      "_view_name": "HTMLView",
      "description": "",
      "description_tooltip": null,
      "layout": "IPY_MODEL_abe4af2d09e64821aa2d25db787c22d0",
      "placeholder": "​",
      "style": "IPY_MODEL_624336f28aba429b873b7e72e75a91fa",
      "value": "Downloading: 100%"
     }
    },
    "3ef9a88992f544d5b2910c53d640f9d2": {
     "model_module": "@jupyter-widgets/controls",
     "model_name": "FloatProgressModel",
     "model_module_version": "1.5.0",
     "state": {
      "_dom_classes": [],
      "_model_module": "@jupyter-widgets/controls",
      "_model_module_version": "1.5.0",
      "_model_name": "FloatProgressModel",
      "_view_count": null,
      "_view_module": "@jupyter-widgets/controls",
      "_view_module_version": "1.5.0",
      "_view_name": "ProgressView",
      "bar_style": "success",
      "description": "",
      "description_tooltip": null,
      "layout": "IPY_MODEL_e0deaa193fdc44efb7bedff98b9fc7d4",
      "max": 456318,
      "min": 0,
      "orientation": "horizontal",
      "style": "IPY_MODEL_ac2e0cf2b25d4623852a57ed462707ac",
      "value": 456318
     }
    },
    "e6276cb825044634ab5478f83eaec0ee": {
     "model_module": "@jupyter-widgets/controls",
     "model_name": "HTMLModel",
     "model_module_version": "1.5.0",
     "state": {
      "_dom_classes": [],
      "_model_module": "@jupyter-widgets/controls",
      "_model_module_version": "1.5.0",
      "_model_name": "HTMLModel",
      "_view_count": null,
      "_view_module": "@jupyter-widgets/controls",
      "_view_module_version": "1.5.0",
      "_view_name": "HTMLView",
      "description": "",
      "description_tooltip": null,
      "layout": "IPY_MODEL_b64bc0f3f6384188a77f5a682ed13a92",
      "placeholder": "​",
      "style": "IPY_MODEL_f9ae96ed52f54b51834078ec12ffb968",
      "value": " 446k/446k [00:00&lt;00:00, 567kB/s]"
     }
    },
    "359987a28d2642dd901606188a03f4d0": {
     "model_module": "@jupyter-widgets/base",
     "model_name": "LayoutModel",
     "model_module_version": "1.2.0",
     "state": {
      "_model_module": "@jupyter-widgets/base",
      "_model_module_version": "1.2.0",
      "_model_name": "LayoutModel",
      "_view_count": null,
      "_view_module": "@jupyter-widgets/base",
      "_view_module_version": "1.2.0",
      "_view_name": "LayoutView",
      "align_content": null,
      "align_items": null,
      "align_self": null,
      "border": null,
      "bottom": null,
      "display": null,
      "flex": null,
      "flex_flow": null,
      "grid_area": null,
      "grid_auto_columns": null,
      "grid_auto_flow": null,
      "grid_auto_rows": null,
      "grid_column": null,
      "grid_gap": null,
      "grid_row": null,
      "grid_template_areas": null,
      "grid_template_columns": null,
      "grid_template_rows": null,
      "height": null,
      "justify_content": null,
      "justify_items": null,
      "left": null,
      "margin": null,
      "max_height": null,
      "max_width": null,
      "min_height": null,
      "min_width": null,
      "object_fit": null,
      "object_position": null,
      "order": null,
      "overflow": null,
      "overflow_x": null,
      "overflow_y": null,
      "padding": null,
      "right": null,
      "top": null,
      "visibility": null,
      "width": null
     }
    },
    "abe4af2d09e64821aa2d25db787c22d0": {
     "model_module": "@jupyter-widgets/base",
     "model_name": "LayoutModel",
     "model_module_version": "1.2.0",
     "state": {
      "_model_module": "@jupyter-widgets/base",
      "_model_module_version": "1.2.0",
      "_model_name": "LayoutModel",
      "_view_count": null,
      "_view_module": "@jupyter-widgets/base",
      "_view_module_version": "1.2.0",
      "_view_name": "LayoutView",
      "align_content": null,
      "align_items": null,
      "align_self": null,
      "border": null,
      "bottom": null,
      "display": null,
      "flex": null,
      "flex_flow": null,
      "grid_area": null,
      "grid_auto_columns": null,
      "grid_auto_flow": null,
      "grid_auto_rows": null,
      "grid_column": null,
      "grid_gap": null,
      "grid_row": null,
      "grid_template_areas": null,
      "grid_template_columns": null,
      "grid_template_rows": null,
      "height": null,
      "justify_content": null,
      "justify_items": null,
      "left": null,
      "margin": null,
      "max_height": null,
      "max_width": null,
      "min_height": null,
      "min_width": null,
      "object_fit": null,
      "object_position": null,
      "order": null,
      "overflow": null,
      "overflow_x": null,
      "overflow_y": null,
      "padding": null,
      "right": null,
      "top": null,
      "visibility": null,
      "width": null
     }
    },
    "624336f28aba429b873b7e72e75a91fa": {
     "model_module": "@jupyter-widgets/controls",
     "model_name": "DescriptionStyleModel",
     "model_module_version": "1.5.0",
     "state": {
      "_model_module": "@jupyter-widgets/controls",
      "_model_module_version": "1.5.0",
      "_model_name": "DescriptionStyleModel",
      "_view_count": null,
      "_view_module": "@jupyter-widgets/base",
      "_view_module_version": "1.2.0",
      "_view_name": "StyleView",
      "description_width": ""
     }
    },
    "e0deaa193fdc44efb7bedff98b9fc7d4": {
     "model_module": "@jupyter-widgets/base",
     "model_name": "LayoutModel",
     "model_module_version": "1.2.0",
     "state": {
      "_model_module": "@jupyter-widgets/base",
      "_model_module_version": "1.2.0",
      "_model_name": "LayoutModel",
      "_view_count": null,
      "_view_module": "@jupyter-widgets/base",
      "_view_module_version": "1.2.0",
      "_view_name": "LayoutView",
      "align_content": null,
      "align_items": null,
      "align_self": null,
      "border": null,
      "bottom": null,
      "display": null,
      "flex": null,
      "flex_flow": null,
      "grid_area": null,
      "grid_auto_columns": null,
      "grid_auto_flow": null,
      "grid_auto_rows": null,
      "grid_column": null,
      "grid_gap": null,
      "grid_row": null,
      "grid_template_areas": null,
      "grid_template_columns": null,
      "grid_template_rows": null,
      "height": null,
      "justify_content": null,
      "justify_items": null,
      "left": null,
      "margin": null,
      "max_height": null,
      "max_width": null,
      "min_height": null,
      "min_width": null,
      "object_fit": null,
      "object_position": null,
      "order": null,
      "overflow": null,
      "overflow_x": null,
      "overflow_y": null,
      "padding": null,
      "right": null,
      "top": null,
      "visibility": null,
      "width": null
     }
    },
    "ac2e0cf2b25d4623852a57ed462707ac": {
     "model_module": "@jupyter-widgets/controls",
     "model_name": "ProgressStyleModel",
     "model_module_version": "1.5.0",
     "state": {
      "_model_module": "@jupyter-widgets/controls",
      "_model_module_version": "1.5.0",
      "_model_name": "ProgressStyleModel",
      "_view_count": null,
      "_view_module": "@jupyter-widgets/base",
      "_view_module_version": "1.2.0",
      "_view_name": "StyleView",
      "bar_color": null,
      "description_width": ""
     }
    },
    "b64bc0f3f6384188a77f5a682ed13a92": {
     "model_module": "@jupyter-widgets/base",
     "model_name": "LayoutModel",
     "model_module_version": "1.2.0",
     "state": {
      "_model_module": "@jupyter-widgets/base",
      "_model_module_version": "1.2.0",
      "_model_name": "LayoutModel",
      "_view_count": null,
      "_view_module": "@jupyter-widgets/base",
      "_view_module_version": "1.2.0",
      "_view_name": "LayoutView",
      "align_content": null,
      "align_items": null,
      "align_self": null,
      "border": null,
      "bottom": null,
      "display": null,
      "flex": null,
      "flex_flow": null,
      "grid_area": null,
      "grid_auto_columns": null,
      "grid_auto_flow": null,
      "grid_auto_rows": null,
      "grid_column": null,
      "grid_gap": null,
      "grid_row": null,
      "grid_template_areas": null,
      "grid_template_columns": null,
      "grid_template_rows": null,
      "height": null,
      "justify_content": null,
      "justify_items": null,
      "left": null,
      "margin": null,
      "max_height": null,
      "max_width": null,
      "min_height": null,
      "min_width": null,
      "object_fit": null,
      "object_position": null,
      "order": null,
      "overflow": null,
      "overflow_x": null,
      "overflow_y": null,
      "padding": null,
      "right": null,
      "top": null,
      "visibility": null,
      "width": null
     }
    },
    "f9ae96ed52f54b51834078ec12ffb968": {
     "model_module": "@jupyter-widgets/controls",
     "model_name": "DescriptionStyleModel",
     "model_module_version": "1.5.0",
     "state": {
      "_model_module": "@jupyter-widgets/controls",
      "_model_module_version": "1.5.0",
      "_model_name": "DescriptionStyleModel",
      "_view_count": null,
      "_view_module": "@jupyter-widgets/base",
      "_view_module_version": "1.2.0",
      "_view_name": "StyleView",
      "description_width": ""
     }
    },
    "ab0b66ebf1b24f458856eab916aaebb6": {
     "model_module": "@jupyter-widgets/controls",
     "model_name": "HBoxModel",
     "model_module_version": "1.5.0",
     "state": {
      "_dom_classes": [],
      "_model_module": "@jupyter-widgets/controls",
      "_model_module_version": "1.5.0",
      "_model_name": "HBoxModel",
      "_view_count": null,
      "_view_module": "@jupyter-widgets/controls",
      "_view_module_version": "1.5.0",
      "_view_name": "HBoxView",
      "box_style": "",
      "children": [
       "IPY_MODEL_d1f4b240ac0747feae7dd1c95023e017",
       "IPY_MODEL_814b01823b044b37954bd39cdf8e7f08",
       "IPY_MODEL_e06af281356b4ff996e2e3c35ffc4d49"
      ],
      "layout": "IPY_MODEL_7db026c1c68d41ecb84463d88299ed7a"
     }
    },
    "d1f4b240ac0747feae7dd1c95023e017": {
     "model_module": "@jupyter-widgets/controls",
     "model_name": "HTMLModel",
     "model_module_version": "1.5.0",
     "state": {
      "_dom_classes": [],
      "_model_module": "@jupyter-widgets/controls",
      "_model_module_version": "1.5.0",
      "_model_name": "HTMLModel",
      "_view_count": null,
      "_view_module": "@jupyter-widgets/controls",
      "_view_module_version": "1.5.0",
      "_view_name": "HTMLView",
      "description": "",
      "description_tooltip": null,
      "layout": "IPY_MODEL_843aa38ff71d411287374386353a3968",
      "placeholder": "​",
      "style": "IPY_MODEL_69b6aad9bff84975a66b9be7ed27317d",
      "value": "Downloading: 100%"
     }
    },
    "814b01823b044b37954bd39cdf8e7f08": {
     "model_module": "@jupyter-widgets/controls",
     "model_name": "FloatProgressModel",
     "model_module_version": "1.5.0",
     "state": {
      "_dom_classes": [],
      "_model_module": "@jupyter-widgets/controls",
      "_model_module_version": "1.5.0",
      "_model_name": "FloatProgressModel",
      "_view_count": null,
      "_view_module": "@jupyter-widgets/controls",
      "_view_module_version": "1.5.0",
      "_view_name": "ProgressView",
      "bar_style": "success",
      "description": "",
      "description_tooltip": null,
      "layout": "IPY_MODEL_3eaecd200b984fcd921606e6595cc55c",
      "max": 1355863,
      "min": 0,
      "orientation": "horizontal",
      "style": "IPY_MODEL_00e09034a5de4cf0908185c6880d7fcf",
      "value": 1355863
     }
    },
    "e06af281356b4ff996e2e3c35ffc4d49": {
     "model_module": "@jupyter-widgets/controls",
     "model_name": "HTMLModel",
     "model_module_version": "1.5.0",
     "state": {
      "_dom_classes": [],
      "_model_module": "@jupyter-widgets/controls",
      "_model_module_version": "1.5.0",
      "_model_name": "HTMLModel",
      "_view_count": null,
      "_view_module": "@jupyter-widgets/controls",
      "_view_module_version": "1.5.0",
      "_view_name": "HTMLView",
      "description": "",
      "description_tooltip": null,
      "layout": "IPY_MODEL_a403493e0c37461dbcbc4c68a2f73bab",
      "placeholder": "​",
      "style": "IPY_MODEL_845c9091ad8e4916a6b8a480763b1537",
      "value": " 1.29M/1.29M [00:01&lt;00:00, 1.63MB/s]"
     }
    },
    "7db026c1c68d41ecb84463d88299ed7a": {
     "model_module": "@jupyter-widgets/base",
     "model_name": "LayoutModel",
     "model_module_version": "1.2.0",
     "state": {
      "_model_module": "@jupyter-widgets/base",
      "_model_module_version": "1.2.0",
      "_model_name": "LayoutModel",
      "_view_count": null,
      "_view_module": "@jupyter-widgets/base",
      "_view_module_version": "1.2.0",
      "_view_name": "LayoutView",
      "align_content": null,
      "align_items": null,
      "align_self": null,
      "border": null,
      "bottom": null,
      "display": null,
      "flex": null,
      "flex_flow": null,
      "grid_area": null,
      "grid_auto_columns": null,
      "grid_auto_flow": null,
      "grid_auto_rows": null,
      "grid_column": null,
      "grid_gap": null,
      "grid_row": null,
      "grid_template_areas": null,
      "grid_template_columns": null,
      "grid_template_rows": null,
      "height": null,
      "justify_content": null,
      "justify_items": null,
      "left": null,
      "margin": null,
      "max_height": null,
      "max_width": null,
      "min_height": null,
      "min_width": null,
      "object_fit": null,
      "object_position": null,
      "order": null,
      "overflow": null,
      "overflow_x": null,
      "overflow_y": null,
      "padding": null,
      "right": null,
      "top": null,
      "visibility": null,
      "width": null
     }
    },
    "843aa38ff71d411287374386353a3968": {
     "model_module": "@jupyter-widgets/base",
     "model_name": "LayoutModel",
     "model_module_version": "1.2.0",
     "state": {
      "_model_module": "@jupyter-widgets/base",
      "_model_module_version": "1.2.0",
      "_model_name": "LayoutModel",
      "_view_count": null,
      "_view_module": "@jupyter-widgets/base",
      "_view_module_version": "1.2.0",
      "_view_name": "LayoutView",
      "align_content": null,
      "align_items": null,
      "align_self": null,
      "border": null,
      "bottom": null,
      "display": null,
      "flex": null,
      "flex_flow": null,
      "grid_area": null,
      "grid_auto_columns": null,
      "grid_auto_flow": null,
      "grid_auto_rows": null,
      "grid_column": null,
      "grid_gap": null,
      "grid_row": null,
      "grid_template_areas": null,
      "grid_template_columns": null,
      "grid_template_rows": null,
      "height": null,
      "justify_content": null,
      "justify_items": null,
      "left": null,
      "margin": null,
      "max_height": null,
      "max_width": null,
      "min_height": null,
      "min_width": null,
      "object_fit": null,
      "object_position": null,
      "order": null,
      "overflow": null,
      "overflow_x": null,
      "overflow_y": null,
      "padding": null,
      "right": null,
      "top": null,
      "visibility": null,
      "width": null
     }
    },
    "69b6aad9bff84975a66b9be7ed27317d": {
     "model_module": "@jupyter-widgets/controls",
     "model_name": "DescriptionStyleModel",
     "model_module_version": "1.5.0",
     "state": {
      "_model_module": "@jupyter-widgets/controls",
      "_model_module_version": "1.5.0",
      "_model_name": "DescriptionStyleModel",
      "_view_count": null,
      "_view_module": "@jupyter-widgets/base",
      "_view_module_version": "1.2.0",
      "_view_name": "StyleView",
      "description_width": ""
     }
    },
    "3eaecd200b984fcd921606e6595cc55c": {
     "model_module": "@jupyter-widgets/base",
     "model_name": "LayoutModel",
     "model_module_version": "1.2.0",
     "state": {
      "_model_module": "@jupyter-widgets/base",
      "_model_module_version": "1.2.0",
      "_model_name": "LayoutModel",
      "_view_count": null,
      "_view_module": "@jupyter-widgets/base",
      "_view_module_version": "1.2.0",
      "_view_name": "LayoutView",
      "align_content": null,
      "align_items": null,
      "align_self": null,
      "border": null,
      "bottom": null,
      "display": null,
      "flex": null,
      "flex_flow": null,
      "grid_area": null,
      "grid_auto_columns": null,
      "grid_auto_flow": null,
      "grid_auto_rows": null,
      "grid_column": null,
      "grid_gap": null,
      "grid_row": null,
      "grid_template_areas": null,
      "grid_template_columns": null,
      "grid_template_rows": null,
      "height": null,
      "justify_content": null,
      "justify_items": null,
      "left": null,
      "margin": null,
      "max_height": null,
      "max_width": null,
      "min_height": null,
      "min_width": null,
      "object_fit": null,
      "object_position": null,
      "order": null,
      "overflow": null,
      "overflow_x": null,
      "overflow_y": null,
      "padding": null,
      "right": null,
      "top": null,
      "visibility": null,
      "width": null
     }
    },
    "00e09034a5de4cf0908185c6880d7fcf": {
     "model_module": "@jupyter-widgets/controls",
     "model_name": "ProgressStyleModel",
     "model_module_version": "1.5.0",
     "state": {
      "_model_module": "@jupyter-widgets/controls",
      "_model_module_version": "1.5.0",
      "_model_name": "ProgressStyleModel",
      "_view_count": null,
      "_view_module": "@jupyter-widgets/base",
      "_view_module_version": "1.2.0",
      "_view_name": "StyleView",
      "bar_color": null,
      "description_width": ""
     }
    },
    "a403493e0c37461dbcbc4c68a2f73bab": {
     "model_module": "@jupyter-widgets/base",
     "model_name": "LayoutModel",
     "model_module_version": "1.2.0",
     "state": {
      "_model_module": "@jupyter-widgets/base",
      "_model_module_version": "1.2.0",
      "_model_name": "LayoutModel",
      "_view_count": null,
      "_view_module": "@jupyter-widgets/base",
      "_view_module_version": "1.2.0",
      "_view_name": "LayoutView",
      "align_content": null,
      "align_items": null,
      "align_self": null,
      "border": null,
      "bottom": null,
      "display": null,
      "flex": null,
      "flex_flow": null,
      "grid_area": null,
      "grid_auto_columns": null,
      "grid_auto_flow": null,
      "grid_auto_rows": null,
      "grid_column": null,
      "grid_gap": null,
      "grid_row": null,
      "grid_template_areas": null,
      "grid_template_columns": null,
      "grid_template_rows": null,
      "height": null,
      "justify_content": null,
      "justify_items": null,
      "left": null,
      "margin": null,
      "max_height": null,
      "max_width": null,
      "min_height": null,
      "min_width": null,
      "object_fit": null,
      "object_position": null,
      "order": null,
      "overflow": null,
      "overflow_x": null,
      "overflow_y": null,
      "padding": null,
      "right": null,
      "top": null,
      "visibility": null,
      "width": null
     }
    },
    "845c9091ad8e4916a6b8a480763b1537": {
     "model_module": "@jupyter-widgets/controls",
     "model_name": "DescriptionStyleModel",
     "model_module_version": "1.5.0",
     "state": {
      "_model_module": "@jupyter-widgets/controls",
      "_model_module_version": "1.5.0",
      "_model_name": "DescriptionStyleModel",
      "_view_count": null,
      "_view_module": "@jupyter-widgets/base",
      "_view_module_version": "1.2.0",
      "_view_name": "StyleView",
      "description_width": ""
     }
    },
    "f30bae51f9774a56b8384115d6b3b198": {
     "model_module": "@jupyter-widgets/controls",
     "model_name": "HBoxModel",
     "model_module_version": "1.5.0",
     "state": {
      "_dom_classes": [],
      "_model_module": "@jupyter-widgets/controls",
      "_model_module_version": "1.5.0",
      "_model_name": "HBoxModel",
      "_view_count": null,
      "_view_module": "@jupyter-widgets/controls",
      "_view_module_version": "1.5.0",
      "_view_name": "HBoxView",
      "box_style": "",
      "children": [
       "IPY_MODEL_0e9b04a32e664c86b58e245980c71ba8",
       "IPY_MODEL_3ad1ada3cdc74f1081d6f1d70f35e7ab",
       "IPY_MODEL_1bdca07d216d465d8745b05cfdff44a3"
      ],
      "layout": "IPY_MODEL_0f99a375bc524d27bfa93062de2e799d"
     }
    },
    "0e9b04a32e664c86b58e245980c71ba8": {
     "model_module": "@jupyter-widgets/controls",
     "model_name": "HTMLModel",
     "model_module_version": "1.5.0",
     "state": {
      "_dom_classes": [],
      "_model_module": "@jupyter-widgets/controls",
      "_model_module_version": "1.5.0",
      "_model_name": "HTMLModel",
      "_view_count": null,
      "_view_module": "@jupyter-widgets/controls",
      "_view_module_version": "1.5.0",
      "_view_name": "HTMLView",
      "description": "",
      "description_tooltip": null,
      "layout": "IPY_MODEL_fd9ae0d18ba64b8dad35d88855259eae",
      "placeholder": "​",
      "style": "IPY_MODEL_813de09a6f3f4082a9f0e2cb385cecd5",
      "value": "Downloading: 100%"
     }
    },
    "3ad1ada3cdc74f1081d6f1d70f35e7ab": {
     "model_module": "@jupyter-widgets/controls",
     "model_name": "FloatProgressModel",
     "model_module_version": "1.5.0",
     "state": {
      "_dom_classes": [],
      "_model_module": "@jupyter-widgets/controls",
      "_model_module_version": "1.5.0",
      "_model_name": "FloatProgressModel",
      "_view_count": null,
      "_view_module": "@jupyter-widgets/controls",
      "_view_module_version": "1.5.0",
      "_view_name": "ProgressView",
      "bar_style": "success",
      "description": "",
      "description_tooltip": null,
      "layout": "IPY_MODEL_18bc92d4972144269b20d648dac7cff3",
      "max": 331070498,
      "min": 0,
      "orientation": "horizontal",
      "style": "IPY_MODEL_daf3547d585f44bd9fc1fdca7e78d86e",
      "value": 331070498
     }
    },
    "1bdca07d216d465d8745b05cfdff44a3": {
     "model_module": "@jupyter-widgets/controls",
     "model_name": "HTMLModel",
     "model_module_version": "1.5.0",
     "state": {
      "_dom_classes": [],
      "_model_module": "@jupyter-widgets/controls",
      "_model_module_version": "1.5.0",
      "_model_name": "HTMLModel",
      "_view_count": null,
      "_view_module": "@jupyter-widgets/controls",
      "_view_module_version": "1.5.0",
      "_view_name": "HTMLView",
      "description": "",
      "description_tooltip": null,
      "layout": "IPY_MODEL_00bc39aebe064eeb9a377b40e003a783",
      "placeholder": "​",
      "style": "IPY_MODEL_6f849e45084d4334a5b50a0b2ef39c27",
      "value": " 316M/316M [00:10&lt;00:00, 37.9MB/s]"
     }
    },
    "0f99a375bc524d27bfa93062de2e799d": {
     "model_module": "@jupyter-widgets/base",
     "model_name": "LayoutModel",
     "model_module_version": "1.2.0",
     "state": {
      "_model_module": "@jupyter-widgets/base",
      "_model_module_version": "1.2.0",
      "_model_name": "LayoutModel",
      "_view_count": null,
      "_view_module": "@jupyter-widgets/base",
      "_view_module_version": "1.2.0",
      "_view_name": "LayoutView",
      "align_content": null,
      "align_items": null,
      "align_self": null,
      "border": null,
      "bottom": null,
      "display": null,
      "flex": null,
      "flex_flow": null,
      "grid_area": null,
      "grid_auto_columns": null,
      "grid_auto_flow": null,
      "grid_auto_rows": null,
      "grid_column": null,
      "grid_gap": null,
      "grid_row": null,
      "grid_template_areas": null,
      "grid_template_columns": null,
      "grid_template_rows": null,
      "height": null,
      "justify_content": null,
      "justify_items": null,
      "left": null,
      "margin": null,
      "max_height": null,
      "max_width": null,
      "min_height": null,
      "min_width": null,
      "object_fit": null,
      "object_position": null,
      "order": null,
      "overflow": null,
      "overflow_x": null,
      "overflow_y": null,
      "padding": null,
      "right": null,
      "top": null,
      "visibility": null,
      "width": null
     }
    },
    "fd9ae0d18ba64b8dad35d88855259eae": {
     "model_module": "@jupyter-widgets/base",
     "model_name": "LayoutModel",
     "model_module_version": "1.2.0",
     "state": {
      "_model_module": "@jupyter-widgets/base",
      "_model_module_version": "1.2.0",
      "_model_name": "LayoutModel",
      "_view_count": null,
      "_view_module": "@jupyter-widgets/base",
      "_view_module_version": "1.2.0",
      "_view_name": "LayoutView",
      "align_content": null,
      "align_items": null,
      "align_self": null,
      "border": null,
      "bottom": null,
      "display": null,
      "flex": null,
      "flex_flow": null,
      "grid_area": null,
      "grid_auto_columns": null,
      "grid_auto_flow": null,
      "grid_auto_rows": null,
      "grid_column": null,
      "grid_gap": null,
      "grid_row": null,
      "grid_template_areas": null,
      "grid_template_columns": null,
      "grid_template_rows": null,
      "height": null,
      "justify_content": null,
      "justify_items": null,
      "left": null,
      "margin": null,
      "max_height": null,
      "max_width": null,
      "min_height": null,
      "min_width": null,
      "object_fit": null,
      "object_position": null,
      "order": null,
      "overflow": null,
      "overflow_x": null,
      "overflow_y": null,
      "padding": null,
      "right": null,
      "top": null,
      "visibility": null,
      "width": null
     }
    },
    "813de09a6f3f4082a9f0e2cb385cecd5": {
     "model_module": "@jupyter-widgets/controls",
     "model_name": "DescriptionStyleModel",
     "model_module_version": "1.5.0",
     "state": {
      "_model_module": "@jupyter-widgets/controls",
      "_model_module_version": "1.5.0",
      "_model_name": "DescriptionStyleModel",
      "_view_count": null,
      "_view_module": "@jupyter-widgets/base",
      "_view_module_version": "1.2.0",
      "_view_name": "StyleView",
      "description_width": ""
     }
    },
    "18bc92d4972144269b20d648dac7cff3": {
     "model_module": "@jupyter-widgets/base",
     "model_name": "LayoutModel",
     "model_module_version": "1.2.0",
     "state": {
      "_model_module": "@jupyter-widgets/base",
      "_model_module_version": "1.2.0",
      "_model_name": "LayoutModel",
      "_view_count": null,
      "_view_module": "@jupyter-widgets/base",
      "_view_module_version": "1.2.0",
      "_view_name": "LayoutView",
      "align_content": null,
      "align_items": null,
      "align_self": null,
      "border": null,
      "bottom": null,
      "display": null,
      "flex": null,
      "flex_flow": null,
      "grid_area": null,
      "grid_auto_columns": null,
      "grid_auto_flow": null,
      "grid_auto_rows": null,
      "grid_column": null,
      "grid_gap": null,
      "grid_row": null,
      "grid_template_areas": null,
      "grid_template_columns": null,
      "grid_template_rows": null,
      "height": null,
      "justify_content": null,
      "justify_items": null,
      "left": null,
      "margin": null,
      "max_height": null,
      "max_width": null,
      "min_height": null,
      "min_width": null,
      "object_fit": null,
      "object_position": null,
      "order": null,
      "overflow": null,
      "overflow_x": null,
      "overflow_y": null,
      "padding": null,
      "right": null,
      "top": null,
      "visibility": null,
      "width": null
     }
    },
    "daf3547d585f44bd9fc1fdca7e78d86e": {
     "model_module": "@jupyter-widgets/controls",
     "model_name": "ProgressStyleModel",
     "model_module_version": "1.5.0",
     "state": {
      "_model_module": "@jupyter-widgets/controls",
      "_model_module_version": "1.5.0",
      "_model_name": "ProgressStyleModel",
      "_view_count": null,
      "_view_module": "@jupyter-widgets/base",
      "_view_module_version": "1.2.0",
      "_view_name": "StyleView",
      "bar_color": null,
      "description_width": ""
     }
    },
    "00bc39aebe064eeb9a377b40e003a783": {
     "model_module": "@jupyter-widgets/base",
     "model_name": "LayoutModel",
     "model_module_version": "1.2.0",
     "state": {
      "_model_module": "@jupyter-widgets/base",
      "_model_module_version": "1.2.0",
      "_model_name": "LayoutModel",
      "_view_count": null,
      "_view_module": "@jupyter-widgets/base",
      "_view_module_version": "1.2.0",
      "_view_name": "LayoutView",
      "align_content": null,
      "align_items": null,
      "align_self": null,
      "border": null,
      "bottom": null,
      "display": null,
      "flex": null,
      "flex_flow": null,
      "grid_area": null,
      "grid_auto_columns": null,
      "grid_auto_flow": null,
      "grid_auto_rows": null,
      "grid_column": null,
      "grid_gap": null,
      "grid_row": null,
      "grid_template_areas": null,
      "grid_template_columns": null,
      "grid_template_rows": null,
      "height": null,
      "justify_content": null,
      "justify_items": null,
      "left": null,
      "margin": null,
      "max_height": null,
      "max_width": null,
      "min_height": null,
      "min_width": null,
      "object_fit": null,
      "object_position": null,
      "order": null,
      "overflow": null,
      "overflow_x": null,
      "overflow_y": null,
      "padding": null,
      "right": null,
      "top": null,
      "visibility": null,
      "width": null
     }
    },
    "6f849e45084d4334a5b50a0b2ef39c27": {
     "model_module": "@jupyter-widgets/controls",
     "model_name": "DescriptionStyleModel",
     "model_module_version": "1.5.0",
     "state": {
      "_model_module": "@jupyter-widgets/controls",
      "_model_module_version": "1.5.0",
      "_model_name": "DescriptionStyleModel",
      "_view_count": null,
      "_view_module": "@jupyter-widgets/base",
      "_view_module_version": "1.2.0",
      "_view_name": "StyleView",
      "description_width": ""
     }
    }
   }
  }
 },
 "nbformat": 4,
 "nbformat_minor": 0
}